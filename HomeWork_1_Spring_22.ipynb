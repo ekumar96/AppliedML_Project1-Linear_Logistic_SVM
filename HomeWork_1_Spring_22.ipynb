{
 "cells": [
  {
   "cell_type": "markdown",
   "id": "210bb436",
   "metadata": {
    "id": "210bb436"
   },
   "source": [
    "# Homework 1: Applied Machine Learning - Linear | Logisitc | SVM"
   ]
  },
  {
   "cell_type": "code",
   "execution_count": 1,
   "id": "e27c90a6",
   "metadata": {
    "id": "e27c90a6"
   },
   "outputs": [],
   "source": [
    "import numpy as np\n",
    "import pandas as pd\n",
    "import seaborn as sns\n",
    "import matplotlib.pyplot as plt\n",
    "from numpy.linalg import inv\n",
    "%matplotlib inline\n",
    "from sklearn.model_selection import train_test_split\n",
    "from sklearn.preprocessing import StandardScaler, MinMaxScaler\n",
    "from sklearn.preprocessing import OrdinalEncoder\n",
    "from sklearn.svm import LinearSVC, SVC\n",
    "from sklearn.metrics import accuracy_score"
   ]
  },
  {
   "cell_type": "code",
   "execution_count": 2,
   "id": "b6a7879a",
   "metadata": {
    "id": "b6a7879a"
   },
   "outputs": [],
   "source": [
    "import warnings\n",
    "\n",
    "def fxn():\n",
    "    warnings.warn(\"deprecated\", DeprecationWarning)\n",
    "\n",
    "with warnings.catch_warnings():\n",
    "    warnings.simplefilter(\"ignore\")\n",
    "    fxn()"
   ]
  },
  {
   "cell_type": "code",
   "execution_count": 3,
   "id": "dec72e60",
   "metadata": {
    "id": "dec72e60"
   },
   "outputs": [],
   "source": [
    "pd.options.mode.chained_assignment = None"
   ]
  },
  {
   "cell_type": "markdown",
   "id": "5bdb2d5a",
   "metadata": {
    "id": "5bdb2d5a"
   },
   "source": [
    "# **Part 1: Linear Regression**"
   ]
  },
  {
   "cell_type": "markdown",
   "id": "86aea694",
   "metadata": {
    "id": "86aea694"
   },
   "source": [
    "In part 1, we will use **two datasets** to train and evaluate our linear regression model.\n",
    "\n",
    "The first dataset will be a synthetic dataset sampled from the following equations:\n",
    "   \n",
    "**𝜖 ∼ Normal(0,3**)\n",
    "\n",
    "**z = 3𝑥 + 10y + 10 + 𝜖**"
   ]
  },
  {
   "cell_type": "code",
   "execution_count": 4,
   "id": "4b1775f9",
   "metadata": {
    "id": "4b1775f9"
   },
   "outputs": [],
   "source": [
    "np.random.seed(0)\n",
    "epsilon = np.random.normal(0, 3, 100)\n",
    "x = np.linspace(0, 10, 100) \n",
    "y = np.linspace(0, 5, 100)\n",
    "z = 3 * x + 10 * y + 10 + epsilon"
   ]
  },
  {
   "cell_type": "markdown",
   "id": "9f9c1a48",
   "metadata": {
    "id": "9f9c1a48"
   },
   "source": [
    "To apply linear regression, we need to first check if the assumptions of linear regression are not violated.\n",
    "\n",
    "Assumptions of Linear Regression:\n",
    "\n",
    "- Linearity: $y$ is a linear (technically affine) function of $x$.\n",
    "- Independence: the $x$'s are independently drawn, and not dependent on each other.\n",
    "- Homoscedasticity: the $\\epsilon$'s, and thus the $y$'s, have constant variance.\n",
    "- Normality: the $\\epsilon$'s are drawn from a Normal distribution (i.e. Normally-distributed errors)\n",
    "\n",
    "These properties, as well as the simplicity of this dataset, will make it a good test case to check if our linear regression model is working properly."
   ]
  },
  {
   "cell_type": "markdown",
   "id": "2be3e924",
   "metadata": {
    "id": "2be3e924"
   },
   "source": [
    "**1.1. Plot z vs x and z vs y in the synthetic dataset as scatter plots. Label your axes and make sure your y-axis starts from 0. Do the independent and dependent features have linear relationship?**"
   ]
  },
  {
   "cell_type": "code",
   "execution_count": 5,
   "id": "c5145cad",
   "metadata": {
    "id": "c5145cad"
   },
   "outputs": [
    {
     "data": {
      "text/plain": [
       "[<matplotlib.lines.Line2D at 0x7fce8444c760>]"
      ]
     },
     "execution_count": 5,
     "metadata": {},
     "output_type": "execute_result"
    },
    {
     "data": {
      "image/png": "[encoded data removed]",
      "text/plain": [
       "<Figure size 432x288 with 1 Axes>"
      ]
     },
     "metadata": {
      "needs_background": "light"
     },
     "output_type": "display_data"
    }
   ],
   "source": [
    "### Your code here\n",
    "plt.plot(x,z, 'bo')"
   ]
  },
  {
   "cell_type": "code",
   "execution_count": 6,
   "id": "94433e8e",
   "metadata": {
    "id": "94433e8e"
   },
   "outputs": [
    {
     "name": "stdout",
     "output_type": "stream",
     "text": [
      "Yes, the independent and dependent features appear to have a linear relationship\n"
     ]
    },
    {
     "data": {
      "image/png": "[encoded data removed]",
      "text/plain": [
       "<Figure size 432x288 with 1 Axes>"
      ]
     },
     "metadata": {
      "needs_background": "light"
     },
     "output_type": "display_data"
    }
   ],
   "source": [
    "### Your code here\n",
    "plt.plot(y, z, 'ro')\n",
    "print(\"Yes, the independent and dependent features appear to have a linear relationship\")"
   ]
  },
  {
   "cell_type": "markdown",
   "id": "0dbb473b",
   "metadata": {
    "id": "0dbb473b"
   },
   "source": [
    "**1.2. Are the independent variables correlated? Use pearson correlation to verify? What would be the problem if linear regression is applied to correlated features?**"
   ]
  },
  {
   "cell_type": "code",
   "execution_count": 7,
   "id": "445ba11c",
   "metadata": {
    "id": "445ba11c"
   },
   "outputs": [
    {
     "name": "stdout",
     "output_type": "stream",
     "text": [
      "Yes, the independent variables, x and y, are highly correlated. They have a Pearson correlation coefficient of 1.0\n"
     ]
    }
   ],
   "source": [
    "### Your code here\n",
    "print(\"Yes, the independent variables, x and y, are highly correlated. They have a Pearson correlation coefficient of\", np.corrcoef(x, y)[1,1])\n"
   ]
  },
  {
   "cell_type": "markdown",
   "id": "d57cd121",
   "metadata": {
    "id": "d57cd121"
   },
   "source": [
    "**The second dataset we will be using is an auto MPG dataset. This dataset contains various characteristics for around 8128 cars. We will use linear regression to predict the selling_price label**"
   ]
  },
  {
   "cell_type": "code",
   "execution_count": 8,
   "id": "d6lnQQunWxCx",
   "metadata": {
    "id": "d6lnQQunWxCx"
   },
   "outputs": [],
   "source": [
    "auto_mpg_df = pd.read_csv('Car details v3.csv')\n",
    "# Dropping Torque column, there is information in this column but it will take some preprocessing.\n",
    "# The idea of the exercise is to familarize yourself with the basics of Linear regression.\n",
    "auto_mpg_df = auto_mpg_df.drop(['torque'], axis = 1)"
   ]
  },
  {
   "cell_type": "code",
   "execution_count": 9,
   "id": "d01532cf",
   "metadata": {
    "id": "d01532cf",
    "outputId": "ea9cb509-bcc8-46bb-db9d-b1e8f71def48"
   },
   "outputs": [
    {
     "data": {
      "text/html": [
       "<div>\n",
       "<style scoped>\n",
       "    .dataframe tbody tr th:only-of-type {\n",
       "        vertical-align: middle;\n",
       "    }\n",
       "\n",
       "    .dataframe tbody tr th {\n",
       "        vertical-align: top;\n",
       "    }\n",
       "\n",
       "    .dataframe thead th {\n",
       "        text-align: right;\n",
       "    }\n",
       "</style>\n",
       "<table border=\"1\" class=\"dataframe\">\n",
       "  <thead>\n",
       "    <tr style=\"text-align: right;\">\n",
       "      <th></th>\n",
       "      <th>name</th>\n",
       "      <th>year</th>\n",
       "      <th>selling_price</th>\n",
       "      <th>km_driven</th>\n",
       "      <th>fuel</th>\n",
       "      <th>seller_type</th>\n",
       "      <th>transmission</th>\n",
       "      <th>owner</th>\n",
       "      <th>mileage</th>\n",
       "      <th>engine</th>\n",
       "      <th>max_power</th>\n",
       "      <th>seats</th>\n",
       "    </tr>\n",
       "  </thead>\n",
       "  <tbody>\n",
       "    <tr>\n",
       "      <th>0</th>\n",
       "      <td>Maruti Swift Dzire VDI</td>\n",
       "      <td>2014</td>\n",
       "      <td>450000</td>\n",
       "      <td>145500</td>\n",
       "      <td>Diesel</td>\n",
       "      <td>Individual</td>\n",
       "      <td>Manual</td>\n",
       "      <td>First Owner</td>\n",
       "      <td>23.4 kmpl</td>\n",
       "      <td>1248 CC</td>\n",
       "      <td>74 bhp</td>\n",
       "      <td>5.0</td>\n",
       "    </tr>\n",
       "    <tr>\n",
       "      <th>1</th>\n",
       "      <td>Skoda Rapid 1.5 TDI Ambition</td>\n",
       "      <td>2014</td>\n",
       "      <td>370000</td>\n",
       "      <td>120000</td>\n",
       "      <td>Diesel</td>\n",
       "      <td>Individual</td>\n",
       "      <td>Manual</td>\n",
       "      <td>Second Owner</td>\n",
       "      <td>21.14 kmpl</td>\n",
       "      <td>1498 CC</td>\n",
       "      <td>103.52 bhp</td>\n",
       "      <td>5.0</td>\n",
       "    </tr>\n",
       "    <tr>\n",
       "      <th>2</th>\n",
       "      <td>Honda City 2017-2020 EXi</td>\n",
       "      <td>2006</td>\n",
       "      <td>158000</td>\n",
       "      <td>140000</td>\n",
       "      <td>Petrol</td>\n",
       "      <td>Individual</td>\n",
       "      <td>Manual</td>\n",
       "      <td>Third Owner</td>\n",
       "      <td>17.7 kmpl</td>\n",
       "      <td>1497 CC</td>\n",
       "      <td>78 bhp</td>\n",
       "      <td>5.0</td>\n",
       "    </tr>\n",
       "    <tr>\n",
       "      <th>3</th>\n",
       "      <td>Hyundai i20 Sportz Diesel</td>\n",
       "      <td>2010</td>\n",
       "      <td>225000</td>\n",
       "      <td>127000</td>\n",
       "      <td>Diesel</td>\n",
       "      <td>Individual</td>\n",
       "      <td>Manual</td>\n",
       "      <td>First Owner</td>\n",
       "      <td>23.0 kmpl</td>\n",
       "      <td>1396 CC</td>\n",
       "      <td>90 bhp</td>\n",
       "      <td>5.0</td>\n",
       "    </tr>\n",
       "    <tr>\n",
       "      <th>4</th>\n",
       "      <td>Maruti Swift VXI BSIII</td>\n",
       "      <td>2007</td>\n",
       "      <td>130000</td>\n",
       "      <td>120000</td>\n",
       "      <td>Petrol</td>\n",
       "      <td>Individual</td>\n",
       "      <td>Manual</td>\n",
       "      <td>First Owner</td>\n",
       "      <td>16.1 kmpl</td>\n",
       "      <td>1298 CC</td>\n",
       "      <td>88.2 bhp</td>\n",
       "      <td>5.0</td>\n",
       "    </tr>\n",
       "    <tr>\n",
       "      <th>...</th>\n",
       "      <td>...</td>\n",
       "      <td>...</td>\n",
       "      <td>...</td>\n",
       "      <td>...</td>\n",
       "      <td>...</td>\n",
       "      <td>...</td>\n",
       "      <td>...</td>\n",
       "      <td>...</td>\n",
       "      <td>...</td>\n",
       "      <td>...</td>\n",
       "      <td>...</td>\n",
       "      <td>...</td>\n",
       "    </tr>\n",
       "    <tr>\n",
       "      <th>8123</th>\n",
       "      <td>Hyundai i20 Magna</td>\n",
       "      <td>2013</td>\n",
       "      <td>320000</td>\n",
       "      <td>110000</td>\n",
       "      <td>Petrol</td>\n",
       "      <td>Individual</td>\n",
       "      <td>Manual</td>\n",
       "      <td>First Owner</td>\n",
       "      <td>18.5 kmpl</td>\n",
       "      <td>1197 CC</td>\n",
       "      <td>82.85 bhp</td>\n",
       "      <td>5.0</td>\n",
       "    </tr>\n",
       "    <tr>\n",
       "      <th>8124</th>\n",
       "      <td>Hyundai Verna CRDi SX</td>\n",
       "      <td>2007</td>\n",
       "      <td>135000</td>\n",
       "      <td>119000</td>\n",
       "      <td>Diesel</td>\n",
       "      <td>Individual</td>\n",
       "      <td>Manual</td>\n",
       "      <td>Fourth &amp; Above Owner</td>\n",
       "      <td>16.8 kmpl</td>\n",
       "      <td>1493 CC</td>\n",
       "      <td>110 bhp</td>\n",
       "      <td>5.0</td>\n",
       "    </tr>\n",
       "    <tr>\n",
       "      <th>8125</th>\n",
       "      <td>Maruti Swift Dzire ZDi</td>\n",
       "      <td>2009</td>\n",
       "      <td>382000</td>\n",
       "      <td>120000</td>\n",
       "      <td>Diesel</td>\n",
       "      <td>Individual</td>\n",
       "      <td>Manual</td>\n",
       "      <td>First Owner</td>\n",
       "      <td>19.3 kmpl</td>\n",
       "      <td>1248 CC</td>\n",
       "      <td>73.9 bhp</td>\n",
       "      <td>5.0</td>\n",
       "    </tr>\n",
       "    <tr>\n",
       "      <th>8126</th>\n",
       "      <td>Tata Indigo CR4</td>\n",
       "      <td>2013</td>\n",
       "      <td>290000</td>\n",
       "      <td>25000</td>\n",
       "      <td>Diesel</td>\n",
       "      <td>Individual</td>\n",
       "      <td>Manual</td>\n",
       "      <td>First Owner</td>\n",
       "      <td>23.57 kmpl</td>\n",
       "      <td>1396 CC</td>\n",
       "      <td>70 bhp</td>\n",
       "      <td>5.0</td>\n",
       "    </tr>\n",
       "    <tr>\n",
       "      <th>8127</th>\n",
       "      <td>Tata Indigo CR4</td>\n",
       "      <td>2013</td>\n",
       "      <td>290000</td>\n",
       "      <td>25000</td>\n",
       "      <td>Diesel</td>\n",
       "      <td>Individual</td>\n",
       "      <td>Manual</td>\n",
       "      <td>First Owner</td>\n",
       "      <td>23.57 kmpl</td>\n",
       "      <td>1396 CC</td>\n",
       "      <td>70 bhp</td>\n",
       "      <td>5.0</td>\n",
       "    </tr>\n",
       "  </tbody>\n",
       "</table>\n",
       "<p>8128 rows × 12 columns</p>\n",
       "</div>"
      ],
      "text/plain": [
       "                              name  year  selling_price  km_driven    fuel  \\\n",
       "0           Maruti Swift Dzire VDI  2014         450000     145500  Diesel   \n",
       "1     Skoda Rapid 1.5 TDI Ambition  2014         370000     120000  Diesel   \n",
       "2         Honda City 2017-2020 EXi  2006         158000     140000  Petrol   \n",
       "3        Hyundai i20 Sportz Diesel  2010         225000     127000  Diesel   \n",
       "4           Maruti Swift VXI BSIII  2007         130000     120000  Petrol   \n",
       "...                            ...   ...            ...        ...     ...   \n",
       "8123             Hyundai i20 Magna  2013         320000     110000  Petrol   \n",
       "8124         Hyundai Verna CRDi SX  2007         135000     119000  Diesel   \n",
       "8125        Maruti Swift Dzire ZDi  2009         382000     120000  Diesel   \n",
       "8126               Tata Indigo CR4  2013         290000      25000  Diesel   \n",
       "8127               Tata Indigo CR4  2013         290000      25000  Diesel   \n",
       "\n",
       "     seller_type transmission                 owner     mileage   engine  \\\n",
       "0     Individual       Manual           First Owner   23.4 kmpl  1248 CC   \n",
       "1     Individual       Manual          Second Owner  21.14 kmpl  1498 CC   \n",
       "2     Individual       Manual           Third Owner   17.7 kmpl  1497 CC   \n",
       "3     Individual       Manual           First Owner   23.0 kmpl  1396 CC   \n",
       "4     Individual       Manual           First Owner   16.1 kmpl  1298 CC   \n",
       "...          ...          ...                   ...         ...      ...   \n",
       "8123  Individual       Manual           First Owner   18.5 kmpl  1197 CC   \n",
       "8124  Individual       Manual  Fourth & Above Owner   16.8 kmpl  1493 CC   \n",
       "8125  Individual       Manual           First Owner   19.3 kmpl  1248 CC   \n",
       "8126  Individual       Manual           First Owner  23.57 kmpl  1396 CC   \n",
       "8127  Individual       Manual           First Owner  23.57 kmpl  1396 CC   \n",
       "\n",
       "       max_power  seats  \n",
       "0         74 bhp    5.0  \n",
       "1     103.52 bhp    5.0  \n",
       "2         78 bhp    5.0  \n",
       "3         90 bhp    5.0  \n",
       "4       88.2 bhp    5.0  \n",
       "...          ...    ...  \n",
       "8123   82.85 bhp    5.0  \n",
       "8124     110 bhp    5.0  \n",
       "8125    73.9 bhp    5.0  \n",
       "8126      70 bhp    5.0  \n",
       "8127      70 bhp    5.0  \n",
       "\n",
       "[8128 rows x 12 columns]"
      ]
     },
     "execution_count": 9,
     "metadata": {},
     "output_type": "execute_result"
    }
   ],
   "source": [
    "auto_mpg_df"
   ]
  },
  {
   "cell_type": "code",
   "execution_count": 10,
   "id": "5218d007",
   "metadata": {},
   "outputs": [
    {
     "name": "stdout",
     "output_type": "stream",
     "text": [
      "Data type of each column of Dataframe :\n",
      "name              object\n",
      "year               int64\n",
      "selling_price      int64\n",
      "km_driven          int64\n",
      "fuel              object\n",
      "seller_type       object\n",
      "transmission      object\n",
      "owner             object\n",
      "mileage           object\n",
      "engine            object\n",
      "max_power         object\n",
      "seats            float64\n",
      "dtype: object\n"
     ]
    }
   ],
   "source": [
    "dataTypeSeries = auto_mpg_df.dtypes\n",
    "print('Data type of each column of Dataframe :')\n",
    "print(dataTypeSeries)"
   ]
  },
  {
   "cell_type": "markdown",
   "id": "bcccde60",
   "metadata": {
    "id": "bcccde60"
   },
   "source": [
    "**1.3. Missing Value analysis - Auto mpg dataset.**\n",
    "\n",
    "**Are there any missing values in the dataset? If so, what can be done about it? Jusify your approach.**"
   ]
  },
  {
   "cell_type": "code",
   "execution_count": 11,
   "id": "7136afc9",
   "metadata": {
    "id": "7136afc9"
   },
   "outputs": [
    {
     "name": "stdout",
     "output_type": "stream",
     "text": [
      "Yes, there are missing values in the dataset, as shown below. There are several ways to handle missing values:\n",
      "\t - Drop the columns/features (worst case)\n",
      "\t - Drop the rows with missing values (roughly 2.5% of dataset)\n",
      "\t - Replace the missing values with the mean/median\n",
      "I will choose to drop the rows that are missing data, because there are only a small number of them\n"
     ]
    },
    {
     "data": {
      "text/html": [
       "<div>\n",
       "<style scoped>\n",
       "    .dataframe tbody tr th:only-of-type {\n",
       "        vertical-align: middle;\n",
       "    }\n",
       "\n",
       "    .dataframe tbody tr th {\n",
       "        vertical-align: top;\n",
       "    }\n",
       "\n",
       "    .dataframe thead th {\n",
       "        text-align: right;\n",
       "    }\n",
       "</style>\n",
       "<table border=\"1\" class=\"dataframe\">\n",
       "  <thead>\n",
       "    <tr style=\"text-align: right;\">\n",
       "      <th></th>\n",
       "      <th>name</th>\n",
       "      <th>year</th>\n",
       "      <th>selling_price</th>\n",
       "      <th>km_driven</th>\n",
       "      <th>fuel</th>\n",
       "      <th>seller_type</th>\n",
       "      <th>transmission</th>\n",
       "      <th>owner</th>\n",
       "      <th>mileage</th>\n",
       "      <th>engine</th>\n",
       "      <th>max_power</th>\n",
       "      <th>seats</th>\n",
       "    </tr>\n",
       "  </thead>\n",
       "  <tbody>\n",
       "    <tr>\n",
       "      <th>13</th>\n",
       "      <td>Maruti Swift 1.3 VXi</td>\n",
       "      <td>2007</td>\n",
       "      <td>200000</td>\n",
       "      <td>80000</td>\n",
       "      <td>Petrol</td>\n",
       "      <td>Individual</td>\n",
       "      <td>Manual</td>\n",
       "      <td>Second Owner</td>\n",
       "      <td>NaN</td>\n",
       "      <td>NaN</td>\n",
       "      <td>NaN</td>\n",
       "      <td>NaN</td>\n",
       "    </tr>\n",
       "    <tr>\n",
       "      <th>31</th>\n",
       "      <td>Fiat Palio 1.2 ELX</td>\n",
       "      <td>2003</td>\n",
       "      <td>70000</td>\n",
       "      <td>50000</td>\n",
       "      <td>Petrol</td>\n",
       "      <td>Individual</td>\n",
       "      <td>Manual</td>\n",
       "      <td>Second Owner</td>\n",
       "      <td>NaN</td>\n",
       "      <td>NaN</td>\n",
       "      <td>NaN</td>\n",
       "      <td>NaN</td>\n",
       "    </tr>\n",
       "    <tr>\n",
       "      <th>78</th>\n",
       "      <td>Tata Indica DLS</td>\n",
       "      <td>2003</td>\n",
       "      <td>50000</td>\n",
       "      <td>70000</td>\n",
       "      <td>Diesel</td>\n",
       "      <td>Individual</td>\n",
       "      <td>Manual</td>\n",
       "      <td>First Owner</td>\n",
       "      <td>NaN</td>\n",
       "      <td>NaN</td>\n",
       "      <td>NaN</td>\n",
       "      <td>NaN</td>\n",
       "    </tr>\n",
       "    <tr>\n",
       "      <th>87</th>\n",
       "      <td>Maruti Swift VDI BSIV W ABS</td>\n",
       "      <td>2015</td>\n",
       "      <td>475000</td>\n",
       "      <td>78000</td>\n",
       "      <td>Diesel</td>\n",
       "      <td>Dealer</td>\n",
       "      <td>Manual</td>\n",
       "      <td>First Owner</td>\n",
       "      <td>NaN</td>\n",
       "      <td>NaN</td>\n",
       "      <td>NaN</td>\n",
       "      <td>NaN</td>\n",
       "    </tr>\n",
       "    <tr>\n",
       "      <th>119</th>\n",
       "      <td>Maruti Swift VDI BSIV</td>\n",
       "      <td>2010</td>\n",
       "      <td>300000</td>\n",
       "      <td>120000</td>\n",
       "      <td>Diesel</td>\n",
       "      <td>Individual</td>\n",
       "      <td>Manual</td>\n",
       "      <td>Second Owner</td>\n",
       "      <td>NaN</td>\n",
       "      <td>NaN</td>\n",
       "      <td>NaN</td>\n",
       "      <td>NaN</td>\n",
       "    </tr>\n",
       "    <tr>\n",
       "      <th>...</th>\n",
       "      <td>...</td>\n",
       "      <td>...</td>\n",
       "      <td>...</td>\n",
       "      <td>...</td>\n",
       "      <td>...</td>\n",
       "      <td>...</td>\n",
       "      <td>...</td>\n",
       "      <td>...</td>\n",
       "      <td>...</td>\n",
       "      <td>...</td>\n",
       "      <td>...</td>\n",
       "      <td>...</td>\n",
       "    </tr>\n",
       "    <tr>\n",
       "      <th>7846</th>\n",
       "      <td>Toyota Qualis Fleet A3</td>\n",
       "      <td>2000</td>\n",
       "      <td>200000</td>\n",
       "      <td>100000</td>\n",
       "      <td>Diesel</td>\n",
       "      <td>Individual</td>\n",
       "      <td>Manual</td>\n",
       "      <td>First Owner</td>\n",
       "      <td>NaN</td>\n",
       "      <td>NaN</td>\n",
       "      <td>NaN</td>\n",
       "      <td>NaN</td>\n",
       "    </tr>\n",
       "    <tr>\n",
       "      <th>7996</th>\n",
       "      <td>Hyundai Santro LS zipPlus</td>\n",
       "      <td>2000</td>\n",
       "      <td>140000</td>\n",
       "      <td>50000</td>\n",
       "      <td>Petrol</td>\n",
       "      <td>Individual</td>\n",
       "      <td>Manual</td>\n",
       "      <td>Second Owner</td>\n",
       "      <td>NaN</td>\n",
       "      <td>NaN</td>\n",
       "      <td>NaN</td>\n",
       "      <td>NaN</td>\n",
       "    </tr>\n",
       "    <tr>\n",
       "      <th>8009</th>\n",
       "      <td>Hyundai Santro Xing XS eRLX Euro III</td>\n",
       "      <td>2006</td>\n",
       "      <td>145000</td>\n",
       "      <td>80000</td>\n",
       "      <td>Petrol</td>\n",
       "      <td>Individual</td>\n",
       "      <td>Manual</td>\n",
       "      <td>Second Owner</td>\n",
       "      <td>NaN</td>\n",
       "      <td>NaN</td>\n",
       "      <td>NaN</td>\n",
       "      <td>NaN</td>\n",
       "    </tr>\n",
       "    <tr>\n",
       "      <th>8068</th>\n",
       "      <td>Ford Figo Aspire Facelift</td>\n",
       "      <td>2017</td>\n",
       "      <td>580000</td>\n",
       "      <td>165000</td>\n",
       "      <td>Diesel</td>\n",
       "      <td>Individual</td>\n",
       "      <td>Manual</td>\n",
       "      <td>First Owner</td>\n",
       "      <td>NaN</td>\n",
       "      <td>NaN</td>\n",
       "      <td>NaN</td>\n",
       "      <td>NaN</td>\n",
       "    </tr>\n",
       "    <tr>\n",
       "      <th>8103</th>\n",
       "      <td>Maruti Swift 1.3 VXi</td>\n",
       "      <td>2006</td>\n",
       "      <td>130000</td>\n",
       "      <td>100000</td>\n",
       "      <td>Petrol</td>\n",
       "      <td>Individual</td>\n",
       "      <td>Manual</td>\n",
       "      <td>Second Owner</td>\n",
       "      <td>NaN</td>\n",
       "      <td>NaN</td>\n",
       "      <td>NaN</td>\n",
       "      <td>NaN</td>\n",
       "    </tr>\n",
       "  </tbody>\n",
       "</table>\n",
       "<p>221 rows × 12 columns</p>\n",
       "</div>"
      ],
      "text/plain": [
       "                                      name  year  selling_price  km_driven  \\\n",
       "13                    Maruti Swift 1.3 VXi  2007         200000      80000   \n",
       "31                      Fiat Palio 1.2 ELX  2003          70000      50000   \n",
       "78                         Tata Indica DLS  2003          50000      70000   \n",
       "87             Maruti Swift VDI BSIV W ABS  2015         475000      78000   \n",
       "119                  Maruti Swift VDI BSIV  2010         300000     120000   \n",
       "...                                    ...   ...            ...        ...   \n",
       "7846                Toyota Qualis Fleet A3  2000         200000     100000   \n",
       "7996             Hyundai Santro LS zipPlus  2000         140000      50000   \n",
       "8009  Hyundai Santro Xing XS eRLX Euro III  2006         145000      80000   \n",
       "8068             Ford Figo Aspire Facelift  2017         580000     165000   \n",
       "8103                  Maruti Swift 1.3 VXi  2006         130000     100000   \n",
       "\n",
       "        fuel seller_type transmission         owner mileage engine max_power  \\\n",
       "13    Petrol  Individual       Manual  Second Owner     NaN    NaN       NaN   \n",
       "31    Petrol  Individual       Manual  Second Owner     NaN    NaN       NaN   \n",
       "78    Diesel  Individual       Manual   First Owner     NaN    NaN       NaN   \n",
       "87    Diesel      Dealer       Manual   First Owner     NaN    NaN       NaN   \n",
       "119   Diesel  Individual       Manual  Second Owner     NaN    NaN       NaN   \n",
       "...      ...         ...          ...           ...     ...    ...       ...   \n",
       "7846  Diesel  Individual       Manual   First Owner     NaN    NaN       NaN   \n",
       "7996  Petrol  Individual       Manual  Second Owner     NaN    NaN       NaN   \n",
       "8009  Petrol  Individual       Manual  Second Owner     NaN    NaN       NaN   \n",
       "8068  Diesel  Individual       Manual   First Owner     NaN    NaN       NaN   \n",
       "8103  Petrol  Individual       Manual  Second Owner     NaN    NaN       NaN   \n",
       "\n",
       "      seats  \n",
       "13      NaN  \n",
       "31      NaN  \n",
       "78      NaN  \n",
       "87      NaN  \n",
       "119     NaN  \n",
       "...     ...  \n",
       "7846    NaN  \n",
       "7996    NaN  \n",
       "8009    NaN  \n",
       "8068    NaN  \n",
       "8103    NaN  \n",
       "\n",
       "[221 rows x 12 columns]"
      ]
     },
     "metadata": {},
     "output_type": "display_data"
    },
    {
     "data": {
      "text/html": [
       "<div>\n",
       "<style scoped>\n",
       "    .dataframe tbody tr th:only-of-type {\n",
       "        vertical-align: middle;\n",
       "    }\n",
       "\n",
       "    .dataframe tbody tr th {\n",
       "        vertical-align: top;\n",
       "    }\n",
       "\n",
       "    .dataframe thead th {\n",
       "        text-align: right;\n",
       "    }\n",
       "</style>\n",
       "<table border=\"1\" class=\"dataframe\">\n",
       "  <thead>\n",
       "    <tr style=\"text-align: right;\">\n",
       "      <th></th>\n",
       "      <th>name</th>\n",
       "      <th>year</th>\n",
       "      <th>selling_price</th>\n",
       "      <th>km_driven</th>\n",
       "      <th>fuel</th>\n",
       "      <th>seller_type</th>\n",
       "      <th>transmission</th>\n",
       "      <th>owner</th>\n",
       "      <th>mileage</th>\n",
       "      <th>engine</th>\n",
       "      <th>max_power</th>\n",
       "      <th>seats</th>\n",
       "    </tr>\n",
       "  </thead>\n",
       "  <tbody>\n",
       "    <tr>\n",
       "      <th>0</th>\n",
       "      <td>Maruti Swift Dzire VDI</td>\n",
       "      <td>2014</td>\n",
       "      <td>450000</td>\n",
       "      <td>145500</td>\n",
       "      <td>Diesel</td>\n",
       "      <td>Individual</td>\n",
       "      <td>Manual</td>\n",
       "      <td>First Owner</td>\n",
       "      <td>23.4 kmpl</td>\n",
       "      <td>1248 CC</td>\n",
       "      <td>74 bhp</td>\n",
       "      <td>5.0</td>\n",
       "    </tr>\n",
       "    <tr>\n",
       "      <th>1</th>\n",
       "      <td>Skoda Rapid 1.5 TDI Ambition</td>\n",
       "      <td>2014</td>\n",
       "      <td>370000</td>\n",
       "      <td>120000</td>\n",
       "      <td>Diesel</td>\n",
       "      <td>Individual</td>\n",
       "      <td>Manual</td>\n",
       "      <td>Second Owner</td>\n",
       "      <td>21.14 kmpl</td>\n",
       "      <td>1498 CC</td>\n",
       "      <td>103.52 bhp</td>\n",
       "      <td>5.0</td>\n",
       "    </tr>\n",
       "    <tr>\n",
       "      <th>2</th>\n",
       "      <td>Honda City 2017-2020 EXi</td>\n",
       "      <td>2006</td>\n",
       "      <td>158000</td>\n",
       "      <td>140000</td>\n",
       "      <td>Petrol</td>\n",
       "      <td>Individual</td>\n",
       "      <td>Manual</td>\n",
       "      <td>Third Owner</td>\n",
       "      <td>17.7 kmpl</td>\n",
       "      <td>1497 CC</td>\n",
       "      <td>78 bhp</td>\n",
       "      <td>5.0</td>\n",
       "    </tr>\n",
       "    <tr>\n",
       "      <th>3</th>\n",
       "      <td>Hyundai i20 Sportz Diesel</td>\n",
       "      <td>2010</td>\n",
       "      <td>225000</td>\n",
       "      <td>127000</td>\n",
       "      <td>Diesel</td>\n",
       "      <td>Individual</td>\n",
       "      <td>Manual</td>\n",
       "      <td>First Owner</td>\n",
       "      <td>23.0 kmpl</td>\n",
       "      <td>1396 CC</td>\n",
       "      <td>90 bhp</td>\n",
       "      <td>5.0</td>\n",
       "    </tr>\n",
       "    <tr>\n",
       "      <th>4</th>\n",
       "      <td>Maruti Swift VXI BSIII</td>\n",
       "      <td>2007</td>\n",
       "      <td>130000</td>\n",
       "      <td>120000</td>\n",
       "      <td>Petrol</td>\n",
       "      <td>Individual</td>\n",
       "      <td>Manual</td>\n",
       "      <td>First Owner</td>\n",
       "      <td>16.1 kmpl</td>\n",
       "      <td>1298 CC</td>\n",
       "      <td>88.2 bhp</td>\n",
       "      <td>5.0</td>\n",
       "    </tr>\n",
       "    <tr>\n",
       "      <th>...</th>\n",
       "      <td>...</td>\n",
       "      <td>...</td>\n",
       "      <td>...</td>\n",
       "      <td>...</td>\n",
       "      <td>...</td>\n",
       "      <td>...</td>\n",
       "      <td>...</td>\n",
       "      <td>...</td>\n",
       "      <td>...</td>\n",
       "      <td>...</td>\n",
       "      <td>...</td>\n",
       "      <td>...</td>\n",
       "    </tr>\n",
       "    <tr>\n",
       "      <th>8123</th>\n",
       "      <td>Hyundai i20 Magna</td>\n",
       "      <td>2013</td>\n",
       "      <td>320000</td>\n",
       "      <td>110000</td>\n",
       "      <td>Petrol</td>\n",
       "      <td>Individual</td>\n",
       "      <td>Manual</td>\n",
       "      <td>First Owner</td>\n",
       "      <td>18.5 kmpl</td>\n",
       "      <td>1197 CC</td>\n",
       "      <td>82.85 bhp</td>\n",
       "      <td>5.0</td>\n",
       "    </tr>\n",
       "    <tr>\n",
       "      <th>8124</th>\n",
       "      <td>Hyundai Verna CRDi SX</td>\n",
       "      <td>2007</td>\n",
       "      <td>135000</td>\n",
       "      <td>119000</td>\n",
       "      <td>Diesel</td>\n",
       "      <td>Individual</td>\n",
       "      <td>Manual</td>\n",
       "      <td>Fourth &amp; Above Owner</td>\n",
       "      <td>16.8 kmpl</td>\n",
       "      <td>1493 CC</td>\n",
       "      <td>110 bhp</td>\n",
       "      <td>5.0</td>\n",
       "    </tr>\n",
       "    <tr>\n",
       "      <th>8125</th>\n",
       "      <td>Maruti Swift Dzire ZDi</td>\n",
       "      <td>2009</td>\n",
       "      <td>382000</td>\n",
       "      <td>120000</td>\n",
       "      <td>Diesel</td>\n",
       "      <td>Individual</td>\n",
       "      <td>Manual</td>\n",
       "      <td>First Owner</td>\n",
       "      <td>19.3 kmpl</td>\n",
       "      <td>1248 CC</td>\n",
       "      <td>73.9 bhp</td>\n",
       "      <td>5.0</td>\n",
       "    </tr>\n",
       "    <tr>\n",
       "      <th>8126</th>\n",
       "      <td>Tata Indigo CR4</td>\n",
       "      <td>2013</td>\n",
       "      <td>290000</td>\n",
       "      <td>25000</td>\n",
       "      <td>Diesel</td>\n",
       "      <td>Individual</td>\n",
       "      <td>Manual</td>\n",
       "      <td>First Owner</td>\n",
       "      <td>23.57 kmpl</td>\n",
       "      <td>1396 CC</td>\n",
       "      <td>70 bhp</td>\n",
       "      <td>5.0</td>\n",
       "    </tr>\n",
       "    <tr>\n",
       "      <th>8127</th>\n",
       "      <td>Tata Indigo CR4</td>\n",
       "      <td>2013</td>\n",
       "      <td>290000</td>\n",
       "      <td>25000</td>\n",
       "      <td>Diesel</td>\n",
       "      <td>Individual</td>\n",
       "      <td>Manual</td>\n",
       "      <td>First Owner</td>\n",
       "      <td>23.57 kmpl</td>\n",
       "      <td>1396 CC</td>\n",
       "      <td>70 bhp</td>\n",
       "      <td>5.0</td>\n",
       "    </tr>\n",
       "  </tbody>\n",
       "</table>\n",
       "<p>7906 rows × 12 columns</p>\n",
       "</div>"
      ],
      "text/plain": [
       "                              name  year  selling_price  km_driven    fuel  \\\n",
       "0           Maruti Swift Dzire VDI  2014         450000     145500  Diesel   \n",
       "1     Skoda Rapid 1.5 TDI Ambition  2014         370000     120000  Diesel   \n",
       "2         Honda City 2017-2020 EXi  2006         158000     140000  Petrol   \n",
       "3        Hyundai i20 Sportz Diesel  2010         225000     127000  Diesel   \n",
       "4           Maruti Swift VXI BSIII  2007         130000     120000  Petrol   \n",
       "...                            ...   ...            ...        ...     ...   \n",
       "8123             Hyundai i20 Magna  2013         320000     110000  Petrol   \n",
       "8124         Hyundai Verna CRDi SX  2007         135000     119000  Diesel   \n",
       "8125        Maruti Swift Dzire ZDi  2009         382000     120000  Diesel   \n",
       "8126               Tata Indigo CR4  2013         290000      25000  Diesel   \n",
       "8127               Tata Indigo CR4  2013         290000      25000  Diesel   \n",
       "\n",
       "     seller_type transmission                 owner     mileage   engine  \\\n",
       "0     Individual       Manual           First Owner   23.4 kmpl  1248 CC   \n",
       "1     Individual       Manual          Second Owner  21.14 kmpl  1498 CC   \n",
       "2     Individual       Manual           Third Owner   17.7 kmpl  1497 CC   \n",
       "3     Individual       Manual           First Owner   23.0 kmpl  1396 CC   \n",
       "4     Individual       Manual           First Owner   16.1 kmpl  1298 CC   \n",
       "...          ...          ...                   ...         ...      ...   \n",
       "8123  Individual       Manual           First Owner   18.5 kmpl  1197 CC   \n",
       "8124  Individual       Manual  Fourth & Above Owner   16.8 kmpl  1493 CC   \n",
       "8125  Individual       Manual           First Owner   19.3 kmpl  1248 CC   \n",
       "8126  Individual       Manual           First Owner  23.57 kmpl  1396 CC   \n",
       "8127  Individual       Manual           First Owner  23.57 kmpl  1396 CC   \n",
       "\n",
       "       max_power  seats  \n",
       "0         74 bhp    5.0  \n",
       "1     103.52 bhp    5.0  \n",
       "2         78 bhp    5.0  \n",
       "3         90 bhp    5.0  \n",
       "4       88.2 bhp    5.0  \n",
       "...          ...    ...  \n",
       "8123   82.85 bhp    5.0  \n",
       "8124     110 bhp    5.0  \n",
       "8125    73.9 bhp    5.0  \n",
       "8126      70 bhp    5.0  \n",
       "8127      70 bhp    5.0  \n",
       "\n",
       "[7906 rows x 12 columns]"
      ]
     },
     "metadata": {},
     "output_type": "display_data"
    }
   ],
   "source": [
    "### Your code here\n",
    "\n",
    "missing_df = auto_mpg_df.loc[auto_mpg_df.isnull().any(axis=1)]\n",
    "\n",
    "print(\"Yes, there are missing values in the dataset, as shown below. There are several ways to handle missing values:\\n\\t - Drop the columns/features (worst case)\\n\\t - Drop the rows with missing values (roughly 2.5% of dataset)\\n\\t - Replace the missing values with the mean/median\")\n",
    "print(\"I will choose to drop the rows that are missing data, because there are only a small number of them\")\n",
    "\n",
    "display(missing_df)\n",
    "fauto_mpg_df = auto_mpg_df.loc[auto_mpg_df.notnull().all(axis=1)]\n",
    "#Removing an annoying value in \"max_power\" with no value, but not NULL (was incorrectly inputted as \"bhp\")\n",
    "fauto_mpg_df.drop(fauto_mpg_df[fauto_mpg_df['max_power'].str.len() < 5].index, inplace = True)\n",
    "display(fauto_mpg_df)\n"
   ]
  },
  {
   "cell_type": "markdown",
   "id": "d809bb8e",
   "metadata": {
    "id": "d809bb8e"
   },
   "source": [
    "**1.4. The features engine, max_power and mileage have units in the dataset. In the real world if we have such datasets, we generally remove the units from each feature. After doing so, convert the datatype of these columns to float. For example: 1248 CC engine is 1248, 23.4 kmpl is 23.4 and so on.**\n",
    "\n",
    "**Hint: Check for distinct units in each of these features. A feature might have multiple units as well. Also, a feature could have no value but have unit. For example 'CC' without any value. Remove such rows.**"
   ]
  },
  {
   "cell_type": "code",
   "execution_count": 12,
   "id": "21b76d44",
   "metadata": {
    "id": "21b76d44"
   },
   "outputs": [
    {
     "name": "stdout",
     "output_type": "stream",
     "text": [
      "Distinct units in mileage:\t{' kmpl', 'km/kg'}\n",
      "Distinct units in max_power:\t{' bhp'}\n",
      "Distinct units in engine:\t{' CC'}\n"
     ]
    }
   ],
   "source": [
    "### Your code here\n",
    "m_unit_set = set()\n",
    "for mileage in fauto_mpg_df[\"mileage\"]:\n",
    "    m_unit_set.add(mileage[-5:])\n",
    "\n",
    "print(\"Distinct units in mileage:\\t\" + str(m_unit_set))\n",
    "\n",
    "p_unit_set = set()\n",
    "for power in fauto_mpg_df[\"max_power\"]:\n",
    "    p_unit_set.add(power[-4:])\n",
    "\n",
    "print(\"Distinct units in max_power:\\t\" + str(p_unit_set))\n",
    "\n",
    "e_unit_set = set()\n",
    "for power in fauto_mpg_df[\"engine\"]:\n",
    "    e_unit_set.add(power[-3:])\n",
    "\n",
    "print(\"Distinct units in engine:\\t\" + str(e_unit_set))"
   ]
  },
  {
   "cell_type": "code",
   "execution_count": 13,
   "id": "7c67c5f0",
   "metadata": {},
   "outputs": [
    {
     "data": {
      "text/html": [
       "<div>\n",
       "<style scoped>\n",
       "    .dataframe tbody tr th:only-of-type {\n",
       "        vertical-align: middle;\n",
       "    }\n",
       "\n",
       "    .dataframe tbody tr th {\n",
       "        vertical-align: top;\n",
       "    }\n",
       "\n",
       "    .dataframe thead th {\n",
       "        text-align: right;\n",
       "    }\n",
       "</style>\n",
       "<table border=\"1\" class=\"dataframe\">\n",
       "  <thead>\n",
       "    <tr style=\"text-align: right;\">\n",
       "      <th></th>\n",
       "      <th>name</th>\n",
       "      <th>year</th>\n",
       "      <th>selling_price</th>\n",
       "      <th>km_driven</th>\n",
       "      <th>fuel</th>\n",
       "      <th>seller_type</th>\n",
       "      <th>transmission</th>\n",
       "      <th>owner</th>\n",
       "      <th>mileage</th>\n",
       "      <th>engine</th>\n",
       "      <th>max_power</th>\n",
       "      <th>seats</th>\n",
       "    </tr>\n",
       "  </thead>\n",
       "  <tbody>\n",
       "    <tr>\n",
       "      <th>0</th>\n",
       "      <td>Maruti Swift Dzire VDI</td>\n",
       "      <td>2014</td>\n",
       "      <td>450000</td>\n",
       "      <td>145500.0</td>\n",
       "      <td>Diesel</td>\n",
       "      <td>Individual</td>\n",
       "      <td>Manual</td>\n",
       "      <td>First Owner</td>\n",
       "      <td>23.40</td>\n",
       "      <td>1248.0</td>\n",
       "      <td>74.00</td>\n",
       "      <td>5.0</td>\n",
       "    </tr>\n",
       "    <tr>\n",
       "      <th>1</th>\n",
       "      <td>Skoda Rapid 1.5 TDI Ambition</td>\n",
       "      <td>2014</td>\n",
       "      <td>370000</td>\n",
       "      <td>120000.0</td>\n",
       "      <td>Diesel</td>\n",
       "      <td>Individual</td>\n",
       "      <td>Manual</td>\n",
       "      <td>Second Owner</td>\n",
       "      <td>21.14</td>\n",
       "      <td>1498.0</td>\n",
       "      <td>103.52</td>\n",
       "      <td>5.0</td>\n",
       "    </tr>\n",
       "    <tr>\n",
       "      <th>2</th>\n",
       "      <td>Honda City 2017-2020 EXi</td>\n",
       "      <td>2006</td>\n",
       "      <td>158000</td>\n",
       "      <td>140000.0</td>\n",
       "      <td>Petrol</td>\n",
       "      <td>Individual</td>\n",
       "      <td>Manual</td>\n",
       "      <td>Third Owner</td>\n",
       "      <td>17.70</td>\n",
       "      <td>1497.0</td>\n",
       "      <td>78.00</td>\n",
       "      <td>5.0</td>\n",
       "    </tr>\n",
       "    <tr>\n",
       "      <th>3</th>\n",
       "      <td>Hyundai i20 Sportz Diesel</td>\n",
       "      <td>2010</td>\n",
       "      <td>225000</td>\n",
       "      <td>127000.0</td>\n",
       "      <td>Diesel</td>\n",
       "      <td>Individual</td>\n",
       "      <td>Manual</td>\n",
       "      <td>First Owner</td>\n",
       "      <td>23.00</td>\n",
       "      <td>1396.0</td>\n",
       "      <td>90.00</td>\n",
       "      <td>5.0</td>\n",
       "    </tr>\n",
       "    <tr>\n",
       "      <th>4</th>\n",
       "      <td>Maruti Swift VXI BSIII</td>\n",
       "      <td>2007</td>\n",
       "      <td>130000</td>\n",
       "      <td>120000.0</td>\n",
       "      <td>Petrol</td>\n",
       "      <td>Individual</td>\n",
       "      <td>Manual</td>\n",
       "      <td>First Owner</td>\n",
       "      <td>16.10</td>\n",
       "      <td>1298.0</td>\n",
       "      <td>88.20</td>\n",
       "      <td>5.0</td>\n",
       "    </tr>\n",
       "    <tr>\n",
       "      <th>...</th>\n",
       "      <td>...</td>\n",
       "      <td>...</td>\n",
       "      <td>...</td>\n",
       "      <td>...</td>\n",
       "      <td>...</td>\n",
       "      <td>...</td>\n",
       "      <td>...</td>\n",
       "      <td>...</td>\n",
       "      <td>...</td>\n",
       "      <td>...</td>\n",
       "      <td>...</td>\n",
       "      <td>...</td>\n",
       "    </tr>\n",
       "    <tr>\n",
       "      <th>8123</th>\n",
       "      <td>Hyundai i20 Magna</td>\n",
       "      <td>2013</td>\n",
       "      <td>320000</td>\n",
       "      <td>110000.0</td>\n",
       "      <td>Petrol</td>\n",
       "      <td>Individual</td>\n",
       "      <td>Manual</td>\n",
       "      <td>First Owner</td>\n",
       "      <td>18.50</td>\n",
       "      <td>1197.0</td>\n",
       "      <td>82.85</td>\n",
       "      <td>5.0</td>\n",
       "    </tr>\n",
       "    <tr>\n",
       "      <th>8124</th>\n",
       "      <td>Hyundai Verna CRDi SX</td>\n",
       "      <td>2007</td>\n",
       "      <td>135000</td>\n",
       "      <td>119000.0</td>\n",
       "      <td>Diesel</td>\n",
       "      <td>Individual</td>\n",
       "      <td>Manual</td>\n",
       "      <td>Fourth &amp; Above Owner</td>\n",
       "      <td>16.80</td>\n",
       "      <td>1493.0</td>\n",
       "      <td>110.00</td>\n",
       "      <td>5.0</td>\n",
       "    </tr>\n",
       "    <tr>\n",
       "      <th>8125</th>\n",
       "      <td>Maruti Swift Dzire ZDi</td>\n",
       "      <td>2009</td>\n",
       "      <td>382000</td>\n",
       "      <td>120000.0</td>\n",
       "      <td>Diesel</td>\n",
       "      <td>Individual</td>\n",
       "      <td>Manual</td>\n",
       "      <td>First Owner</td>\n",
       "      <td>19.30</td>\n",
       "      <td>1248.0</td>\n",
       "      <td>73.90</td>\n",
       "      <td>5.0</td>\n",
       "    </tr>\n",
       "    <tr>\n",
       "      <th>8126</th>\n",
       "      <td>Tata Indigo CR4</td>\n",
       "      <td>2013</td>\n",
       "      <td>290000</td>\n",
       "      <td>25000.0</td>\n",
       "      <td>Diesel</td>\n",
       "      <td>Individual</td>\n",
       "      <td>Manual</td>\n",
       "      <td>First Owner</td>\n",
       "      <td>23.57</td>\n",
       "      <td>1396.0</td>\n",
       "      <td>70.00</td>\n",
       "      <td>5.0</td>\n",
       "    </tr>\n",
       "    <tr>\n",
       "      <th>8127</th>\n",
       "      <td>Tata Indigo CR4</td>\n",
       "      <td>2013</td>\n",
       "      <td>290000</td>\n",
       "      <td>25000.0</td>\n",
       "      <td>Diesel</td>\n",
       "      <td>Individual</td>\n",
       "      <td>Manual</td>\n",
       "      <td>First Owner</td>\n",
       "      <td>23.57</td>\n",
       "      <td>1396.0</td>\n",
       "      <td>70.00</td>\n",
       "      <td>5.0</td>\n",
       "    </tr>\n",
       "  </tbody>\n",
       "</table>\n",
       "<p>7906 rows × 12 columns</p>\n",
       "</div>"
      ],
      "text/plain": [
       "                              name  year  selling_price  km_driven    fuel  \\\n",
       "0           Maruti Swift Dzire VDI  2014         450000   145500.0  Diesel   \n",
       "1     Skoda Rapid 1.5 TDI Ambition  2014         370000   120000.0  Diesel   \n",
       "2         Honda City 2017-2020 EXi  2006         158000   140000.0  Petrol   \n",
       "3        Hyundai i20 Sportz Diesel  2010         225000   127000.0  Diesel   \n",
       "4           Maruti Swift VXI BSIII  2007         130000   120000.0  Petrol   \n",
       "...                            ...   ...            ...        ...     ...   \n",
       "8123             Hyundai i20 Magna  2013         320000   110000.0  Petrol   \n",
       "8124         Hyundai Verna CRDi SX  2007         135000   119000.0  Diesel   \n",
       "8125        Maruti Swift Dzire ZDi  2009         382000   120000.0  Diesel   \n",
       "8126               Tata Indigo CR4  2013         290000    25000.0  Diesel   \n",
       "8127               Tata Indigo CR4  2013         290000    25000.0  Diesel   \n",
       "\n",
       "     seller_type transmission                 owner  mileage  engine  \\\n",
       "0     Individual       Manual           First Owner    23.40  1248.0   \n",
       "1     Individual       Manual          Second Owner    21.14  1498.0   \n",
       "2     Individual       Manual           Third Owner    17.70  1497.0   \n",
       "3     Individual       Manual           First Owner    23.00  1396.0   \n",
       "4     Individual       Manual           First Owner    16.10  1298.0   \n",
       "...          ...          ...                   ...      ...     ...   \n",
       "8123  Individual       Manual           First Owner    18.50  1197.0   \n",
       "8124  Individual       Manual  Fourth & Above Owner    16.80  1493.0   \n",
       "8125  Individual       Manual           First Owner    19.30  1248.0   \n",
       "8126  Individual       Manual           First Owner    23.57  1396.0   \n",
       "8127  Individual       Manual           First Owner    23.57  1396.0   \n",
       "\n",
       "      max_power  seats  \n",
       "0         74.00    5.0  \n",
       "1        103.52    5.0  \n",
       "2         78.00    5.0  \n",
       "3         90.00    5.0  \n",
       "4         88.20    5.0  \n",
       "...         ...    ...  \n",
       "8123      82.85    5.0  \n",
       "8124     110.00    5.0  \n",
       "8125      73.90    5.0  \n",
       "8126      70.00    5.0  \n",
       "8127      70.00    5.0  \n",
       "\n",
       "[7906 rows x 12 columns]"
      ]
     },
     "metadata": {},
     "output_type": "display_data"
    }
   ],
   "source": [
    "def change_mileage(mileage):\n",
    "    if \"km/kg\" in mileage:\n",
    "        return float(mileage[:-6])\n",
    "    elif \"kmpl\" in mileage:\n",
    "        return float(mileage[:-5])\n",
    "    return mileage\n",
    "\n",
    "def change_power(power):\n",
    "    return float(power[:-4])\n",
    "\n",
    "def change_engine(engine):\n",
    "    return float(engine[:-3])\n",
    "\n",
    "def change_km(km):\n",
    "    return float(km)\n",
    "    \n",
    "fauto_mpg_df[\"mileage\"] = fauto_mpg_df[\"mileage\"].apply(change_mileage)\n",
    "fauto_mpg_df[\"max_power\"] = fauto_mpg_df[\"max_power\"].apply(change_power)\n",
    "fauto_mpg_df[\"engine\"] = fauto_mpg_df[\"engine\"].apply(change_engine)\n",
    "fauto_mpg_df[\"km_driven\"] = fauto_mpg_df[\"km_driven\"].apply(change_km)\n",
    "display(fauto_mpg_df)"
   ]
  },
  {
   "cell_type": "code",
   "execution_count": 14,
   "id": "862d73f9",
   "metadata": {
    "id": "862d73f9"
   },
   "outputs": [],
   "source": [
    "auto_mpg_X = fauto_mpg_df.drop(columns=['selling_price'])\n",
    "auto_mpg_y = fauto_mpg_df['selling_price']"
   ]
  },
  {
   "cell_type": "markdown",
   "id": "e881aff2",
   "metadata": {
    "id": "e881aff2"
   },
   "source": [
    "**1.5. Plot the distribution of the label (selling_price) using a histogram. Make multiple plots with different binwidths. Make sure to label your axes while plotting.**"
   ]
  },
  {
   "cell_type": "code",
   "execution_count": 15,
   "id": "a0f96e30",
   "metadata": {
    "id": "a0f96e30"
   },
   "outputs": [
    {
     "data": {
      "image/png": "[encoded data removed]",
      "text/plain": [
       "<Figure size 1080x720 with 3 Axes>"
      ]
     },
     "metadata": {
      "needs_background": "light"
     },
     "output_type": "display_data"
    }
   ],
   "source": [
    "### Your code here\n",
    "binSizes = [500,100,20]\n",
    "figure, axs = plt.subplots(3, 1, figsize = (15, 10))\n",
    "for index, binSize in enumerate(binSizes):\n",
    "    axs[index].hist(auto_mpg_y, bins=binSize)\n",
    "    axs[index].set(xlabel=\"Selling Price\", ylabel=\"Number of Houses\")"
   ]
  },
  {
   "cell_type": "markdown",
   "id": "5b87f7d8",
   "metadata": {
    "id": "5b87f7d8"
   },
   "source": [
    "**1.6. Plot the relationships between the label (Selling Price) and the continuous features (Mileage, km driven, engine, max power) using a small multiple of scatter plots. \n",
    "Make sure to label the axes. Do you see something interesting about the distributions of these features.**"
   ]
  },
  {
   "cell_type": "code",
   "execution_count": 16,
   "id": "c3b62169",
   "metadata": {
    "id": "c3b62169"
   },
   "outputs": [
    {
     "name": "stdout",
     "output_type": "stream",
     "text": [
      "I can see that Engine and Max power seem to have a positive correlation with price\n"
     ]
    },
    {
     "data": {
      "image/png": "[encoded data removed]",
      "text/plain": [
       "<Figure size 1080x720 with 4 Axes>"
      ]
     },
     "metadata": {
      "needs_background": "light"
     },
     "output_type": "display_data"
    }
   ],
   "source": [
    "### Your code here\n",
    "cont_ft = ['mileage', 'km_driven', 'engine', 'max_power']\n",
    "colors = ['red','blue','green','orange']\n",
    "\n",
    "figure, axs = plt.subplots(2, 2, figsize = (15, 10))\n",
    "for index, feature in enumerate(cont_ft):\n",
    "    xval = index%2\n",
    "    yval = int(index/2)\n",
    "    axs[xval, yval].scatter(auto_mpg_X[feature], auto_mpg_y, color = colors[index])\n",
    "    axs[xval, yval].set(xlabel=feature, ylabel='Selling Price')\n",
    "\n",
    "print(\"I can see that Engine and Max power seem to have a positive correlation with price\")"
   ]
  },
  {
   "cell_type": "markdown",
   "id": "84ffa354",
   "metadata": {
    "id": "84ffa354"
   },
   "source": [
    "**1.7. Plot the relationships between the label (Selling Price) and the discrete features (fuel type, Seller type, transmission) using a small multiple of box plots. Make sure to label the axes.**"
   ]
  },
  {
   "cell_type": "code",
   "execution_count": 18,
   "id": "16812f56",
   "metadata": {
    "id": "16812f56"
   },
   "outputs": [
    {
     "data": {
      "image/png": "[encoded data removed]",
      "text/plain": [
       "<Figure size 1800x1080 with 4 Axes>"
      ]
     },
     "metadata": {
      "needs_background": "light"
     },
     "output_type": "display_data"
    }
   ],
   "source": [
    "### Your code here\n",
    "cat_ft = ['fuel', 'seller_type', 'transmission','owner']\n",
    "figure, axes = plt.subplots(2, 2, figsize = (25, 15))\n",
    "for index, feature in enumerate(cat_ft):\n",
    "    xval = index%2\n",
    "    yval = int(index/2)\n",
    "    sns.boxplot(x=feature,y='selling_price', data=fauto_mpg_df, ax=axes[xval,yval])\n",
    "\n",
    "#sns.boxplot(x='fuel',y='selling_price',data=fauto_mpg_df)"
   ]
  },
  {
   "cell_type": "markdown",
   "id": "28eaf41d",
   "metadata": {
    "id": "28eaf41d"
   },
   "source": [
    "**1.8. From the visualizations above, do you think linear regression is a good model for this problem? Why and/or why not?**"
   ]
  },
  {
   "cell_type": "code",
   "execution_count": 19,
   "id": "50c93674",
   "metadata": {
    "id": "50c93674"
   },
   "outputs": [
    {
     "name": "stdout",
     "output_type": "stream",
     "text": [
      "Yes, I think linear regression is a good model for this problem because there seems to be a strong linear correlation with some of the continuous features.\n"
     ]
    }
   ],
   "source": [
    "### Your answer here\n",
    "print(\"Yes, I think linear regression is a good model for this problem because there seems to be a strong linear correlation with some of the continuous features.\")"
   ]
  },
  {
   "cell_type": "code",
   "execution_count": 20,
   "id": "1c7fb6c1",
   "metadata": {
    "id": "1c7fb6c1"
   },
   "outputs": [],
   "source": [
    "auto_mpg_X['year'] =  2020 - auto_mpg_X['year']"
   ]
  },
  {
   "cell_type": "code",
   "execution_count": 21,
   "id": "4fdee656",
   "metadata": {
    "id": "4fdee656",
    "outputId": "c91123e2-48c1-4046-d283-3e54926a9a8a"
   },
   "outputs": [
    {
     "data": {
      "text/html": [
       "<div>\n",
       "<style scoped>\n",
       "    .dataframe tbody tr th:only-of-type {\n",
       "        vertical-align: middle;\n",
       "    }\n",
       "\n",
       "    .dataframe tbody tr th {\n",
       "        vertical-align: top;\n",
       "    }\n",
       "\n",
       "    .dataframe thead th {\n",
       "        text-align: right;\n",
       "    }\n",
       "</style>\n",
       "<table border=\"1\" class=\"dataframe\">\n",
       "  <thead>\n",
       "    <tr style=\"text-align: right;\">\n",
       "      <th></th>\n",
       "      <th>year</th>\n",
       "      <th>km_driven</th>\n",
       "      <th>fuel</th>\n",
       "      <th>seller_type</th>\n",
       "      <th>transmission</th>\n",
       "      <th>owner</th>\n",
       "      <th>mileage</th>\n",
       "      <th>engine</th>\n",
       "      <th>max_power</th>\n",
       "      <th>seats</th>\n",
       "    </tr>\n",
       "  </thead>\n",
       "  <tbody>\n",
       "    <tr>\n",
       "      <th>0</th>\n",
       "      <td>6</td>\n",
       "      <td>145500.0</td>\n",
       "      <td>Diesel</td>\n",
       "      <td>Individual</td>\n",
       "      <td>Manual</td>\n",
       "      <td>First Owner</td>\n",
       "      <td>23.40</td>\n",
       "      <td>1248.0</td>\n",
       "      <td>74.00</td>\n",
       "      <td>5.0</td>\n",
       "    </tr>\n",
       "    <tr>\n",
       "      <th>1</th>\n",
       "      <td>6</td>\n",
       "      <td>120000.0</td>\n",
       "      <td>Diesel</td>\n",
       "      <td>Individual</td>\n",
       "      <td>Manual</td>\n",
       "      <td>Second Owner</td>\n",
       "      <td>21.14</td>\n",
       "      <td>1498.0</td>\n",
       "      <td>103.52</td>\n",
       "      <td>5.0</td>\n",
       "    </tr>\n",
       "    <tr>\n",
       "      <th>2</th>\n",
       "      <td>14</td>\n",
       "      <td>140000.0</td>\n",
       "      <td>Petrol</td>\n",
       "      <td>Individual</td>\n",
       "      <td>Manual</td>\n",
       "      <td>Third Owner</td>\n",
       "      <td>17.70</td>\n",
       "      <td>1497.0</td>\n",
       "      <td>78.00</td>\n",
       "      <td>5.0</td>\n",
       "    </tr>\n",
       "    <tr>\n",
       "      <th>3</th>\n",
       "      <td>10</td>\n",
       "      <td>127000.0</td>\n",
       "      <td>Diesel</td>\n",
       "      <td>Individual</td>\n",
       "      <td>Manual</td>\n",
       "      <td>First Owner</td>\n",
       "      <td>23.00</td>\n",
       "      <td>1396.0</td>\n",
       "      <td>90.00</td>\n",
       "      <td>5.0</td>\n",
       "    </tr>\n",
       "    <tr>\n",
       "      <th>4</th>\n",
       "      <td>13</td>\n",
       "      <td>120000.0</td>\n",
       "      <td>Petrol</td>\n",
       "      <td>Individual</td>\n",
       "      <td>Manual</td>\n",
       "      <td>First Owner</td>\n",
       "      <td>16.10</td>\n",
       "      <td>1298.0</td>\n",
       "      <td>88.20</td>\n",
       "      <td>5.0</td>\n",
       "    </tr>\n",
       "  </tbody>\n",
       "</table>\n",
       "</div>"
      ],
      "text/plain": [
       "   year  km_driven    fuel seller_type transmission         owner  mileage  \\\n",
       "0     6   145500.0  Diesel  Individual       Manual   First Owner    23.40   \n",
       "1     6   120000.0  Diesel  Individual       Manual  Second Owner    21.14   \n",
       "2    14   140000.0  Petrol  Individual       Manual   Third Owner    17.70   \n",
       "3    10   127000.0  Diesel  Individual       Manual   First Owner    23.00   \n",
       "4    13   120000.0  Petrol  Individual       Manual   First Owner    16.10   \n",
       "\n",
       "   engine  max_power  seats  \n",
       "0  1248.0      74.00    5.0  \n",
       "1  1498.0     103.52    5.0  \n",
       "2  1497.0      78.00    5.0  \n",
       "3  1396.0      90.00    5.0  \n",
       "4  1298.0      88.20    5.0  "
      ]
     },
     "execution_count": 21,
     "metadata": {},
     "output_type": "execute_result"
    }
   ],
   "source": [
    "#dropping the car name as it is irrelevant.\n",
    "auto_mpg_X.drop(['name'],axis = 1,inplace=True)\n",
    "\n",
    "#check out the dataset with new changes\n",
    "auto_mpg_X.head()"
   ]
  },
  {
   "cell_type": "markdown",
   "id": "71ebca87",
   "metadata": {
    "id": "71ebca87"
   },
   "source": [
    "**Data Pre-processing**"
   ]
  },
  {
   "cell_type": "markdown",
   "id": "6980d1e4",
   "metadata": {
    "id": "6980d1e4"
   },
   "source": [
    "**1.9.\n",
    "Before we can fit a linear regression model, there are several pre-processing steps we should apply to the datasets:**\n",
    "1. Encode categorial features appropriately.\n",
    "2. Split the dataset into training (60%), validation (20%), and test (20%) sets.\n",
    "3. Standardize the columns in the feature matrices X_train, X_val, and X_test to have zero mean and unit variance. To avoid information leakage, learn the standardization parameters (mean, variance) from X_train, and apply it to X_train, X_val, and X_test.\n",
    "4. Add a column of ones to the feature matrices X_train, X_val, and X_test. This is a common trick so that we can learn a coefficient for the bias term of a linear model.\n"
   ]
  },
  {
   "cell_type": "code",
   "execution_count": 23,
   "id": "8711d6a7",
   "metadata": {
    "id": "8711d6a7"
   },
   "outputs": [
    {
     "name": "stdout",
     "output_type": "stream",
     "text": [
      ">>>Part 1: One hot encoding\n",
      "Shape of data before one-hot encoding:\t(7906, 10)\n",
      "Shape of data after one-hot encoding:\t(7906, 20)\n",
      "\n",
      ">>>Part 2: Train-test split\n",
      "Shape of training data\n",
      "X_train:\t(4743, 20)\n",
      "y_train:\t(4743,)\n",
      "\n",
      "Shape of validation data\n",
      "X_val:\t(1581, 20)\n",
      "y_val:\t(1581,)\n",
      "\n",
      "Shape of test data\n",
      "X_test:\t(1582, 20)\n",
      "y_test:\t(1582,)\n",
      "\n",
      ">>>Part 3/4: Scaling data and adding 1s\n",
      "First row of X_train before:\n",
      "[5.000e+00 1.700e+05 1.299e+01 2.494e+03 1.006e+02 7.000e+00 0.000e+00\n",
      " 1.000e+00 0.000e+00 0.000e+00 0.000e+00 1.000e+00 0.000e+00 0.000e+00\n",
      " 1.000e+00 1.000e+00 0.000e+00 0.000e+00 0.000e+00 0.000e+00]\n",
      "\n",
      "First row of X_train after:\n",
      "[-0.26360703  2.02884763 -1.56515199  2.04149403  0.24837876  1.63029724\n",
      " -0.07566499  0.89825227 -0.06341936 -0.88076071 -0.4024058   0.45145\n",
      " -0.17567827 -0.38526115  0.38526115  0.71753152 -0.14064385 -0.58587161\n",
      " -0.02053903 -0.26261287  1.        ]\n"
     ]
    }
   ],
   "source": [
    "# 1. If no categorical features in the synthetic dataset, skip this step\n",
    "cat_df = auto_mpg_X[cat_ft]\n",
    "cat_df_one_hot = pd.get_dummies(cat_df, dummy_na = False) #since we already removed N/A values, dont need column for them\n",
    "transformed_auto_df = auto_mpg_X.drop(columns=cat_ft)\n",
    "transformed_auto_df = transformed_auto_df.join(cat_df_one_hot)\n",
    "print(\">>>Part 1: One hot encoding\")\n",
    "print(\"Shape of data before one-hot encoding:\\t\" + str(auto_mpg_X.shape))\n",
    "print(\"Shape of data after one-hot encoding:\\t\" + str(transformed_auto_df.shape))\n",
    "\n",
    "\n",
    "# 2. Split the dataset into training (60%), validation (20%), and test (20%) sets\n",
    "X_dev, X_test, y_dev, y_test = train_test_split(transformed_auto_df, auto_mpg_y, test_size = 0.2, random_state=42)\n",
    "X_train, X_val, y_train, y_val = train_test_split(X_dev, y_dev, test_size = 0.25, random_state=84)\n",
    "print(\"\\n>>>Part 2: Train-test split\")\n",
    "print(\"Shape of training data\\nX_train:\\t\" + str(X_train.shape) + \"\\ny_train:\\t\" + str(y_train.shape))\n",
    "print(\"\\nShape of validation data\\nX_val:\\t\" + str(X_val.shape) + \"\\ny_val:\\t\" + str(y_val.shape))\n",
    "print(\"\\nShape of test data\\nX_test:\\t\" + str(X_test.shape) + \"\\ny_test:\\t\" + str(y_test.shape))\n",
    "\n",
    "# 3. Standardize the columns in the feature matrices\n",
    "print(\"\\n>>>Part 3/4: Scaling data and adding 1s\")\n",
    "print(\"First row of X_train before:\")\n",
    "print(np.asarray([round(num, 8) for num in X_train.head(1).values.tolist()[0]]))\n",
    "scaler = StandardScaler()\n",
    "X_train_scaled = scaler.fit_transform(X_train) #fit and transform based on x_train, but only transform for val and test\n",
    "X_val_scaled = scaler.transform(X_val)\n",
    "X_test_scaled = scaler.transform(X_test)\n",
    "\n",
    "\n",
    "# 4. Add a column of ones to the feature matrices\n",
    "X_train = np.hstack((X_train_scaled, np.ones((len(X_train_scaled),1))))\n",
    "X_val = np.hstack((X_val_scaled, np.ones((len(X_val_scaled),1))))\n",
    "X_test = np.hstack((X_test_scaled, np.ones((len(X_test_scaled),1))))\n",
    "print(\"\\nFirst row of X_train after:\")\n",
    "print(X_train[0])"
   ]
  },
  {
   "cell_type": "markdown",
   "id": "950f6e97",
   "metadata": {
    "id": "950f6e97"
   },
   "source": [
    "**At the end of this pre-processing, you should have the following vectors and matrices:**\n",
    "\n",
    "**- Auto MPG dataset: auto_mpg_X_train, auto_mpg_X_val, auto_mpg_X_test, auto_mpg_y_train, auto_mpg_y_val, auto_mpg_y_test**"
   ]
  },
  {
   "cell_type": "markdown",
   "id": "1e3b7ca8",
   "metadata": {
    "id": "1e3b7ca8"
   },
   "source": [
    "**Implement Linear Regression**"
   ]
  },
  {
   "cell_type": "markdown",
   "id": "63b659a6",
   "metadata": {
    "id": "63b659a6"
   },
   "source": [
    "Now, we can implement our linear regression model! Specifically, we will be implementing ridge regression, which is linear regression with L2 regularization. Given an (m x n) feature matrix $X$, an (m x 1) label vector $y$, and an (n x 1) weight vector $w$, the hypothesis function for linear regression is:\n",
    "\n",
    "$$\n",
    "y = X w\n",
    "$$\n",
    "\n",
    "Note that we can omit the bias term here because we have included a column of ones in our $X$ matrix, so the bias term is learned implicitly as a part of $w$. This will make our implementation easier.\n",
    "\n",
    "Our objective in linear regression is to learn the weights $w$ which best fit the data. This notion can be formalized as finding the optimal $w$ which minimizes the following loss function:\n",
    "\n",
    "$$\n",
    "\\min_{w} \\| X w - y \\|^2_2 + \\alpha \\| w \\|^2_2 \\\\\n",
    "$$\n",
    "\n",
    "This is the ridge regression loss function. The $\\| X w - y \\|^2_2$ term penalizes predictions $Xw$ which are not close to the label $y$. And the $\\alpha \\| w \\|^2_2$ penalizes large weight values, to favor a simpler, more generalizable model. The $\\alpha$ hyperparameter, known as the regularization parameter, is used to tune the complexity of the model - a higher $\\alpha$ results in smaller weights and lower complexity, and vice versa. Setting $\\alpha = 0$ gives us vanilla linear regression.\n",
    "\n",
    "Conveniently, ridge regression has a closed-form solution which gives us the optimal $w$ without having to do iterative methods such as gradient descent. The closed-form solution, known as the Normal Equations, is given by:\n",
    "\n",
    "$$\n",
    "w = (X^T X + \\alpha I)^{-1} X^T y\n",
    "$$"
   ]
  },
  {
   "cell_type": "markdown",
   "id": "a7e132b4",
   "metadata": {
    "id": "a7e132b4"
   },
   "source": [
    "**1.10. Implement a `LinearRegression` class with two methods: `train` and `predict`. You may NOT use sklearn for this implementation. You may, however, use `np.linalg.solve` to find the closed-form solution. It is highly recommended that you vectorize your code.**"
   ]
  },
  {
   "cell_type": "code",
   "execution_count": 36,
   "id": "2e8cee4a",
   "metadata": {
    "id": "2e8cee4a"
   },
   "outputs": [],
   "source": [
    "class LinearRegression():\n",
    "    '''\n",
    "    Linear regression model with L2-regularization (i.e. ridge regression).\n",
    "\n",
    "    Attributes\n",
    "    ----------\n",
    "    alpha: regularization parameter\n",
    "    w: (n x 1) weight vector\n",
    "    '''\n",
    "    \n",
    "    def __init__(self, alpha=0):\n",
    "        self.alpha = alpha\n",
    "        self.w = None\n",
    "\n",
    "    def train(self, X, y):\n",
    "        '''Trains model using ridge regression closed-form solution \n",
    "        (sets w to its optimal value).\n",
    "        \n",
    "        Parameters\n",
    "        ----------\n",
    "        X : (m x n) feature matrix\n",
    "        y: (m x 1) label vector\n",
    "        \n",
    "        Returns\n",
    "        -------\n",
    "        None\n",
    "        '''\n",
    "        \n",
    "        Xt = X.T\n",
    "        n = X.shape[1]\n",
    "        aI = self.alpha*np.identity(n)\n",
    "        XtX_aI = Xt.dot(X)+aI\n",
    "        # Instead of using this, which requires us to calculate the inverse (expensive),\n",
    "        # we can use np.linalg.solve\n",
    "        #inv = np.linalg.inv(XtX_aI)\n",
    "        #self.w = (inv.dot(Xt)).dot(y)\n",
    "        Xty = (X.T).dot(y)\n",
    "        self.w = np.linalg.solve(XtX_aI, Xty)\n",
    "        \n",
    "    def predict(self, X):\n",
    "        '''Predicts on X using trained model.\n",
    "        \n",
    "        Parameters\n",
    "        ----------\n",
    "        X : (m x n) feature matrix\n",
    "        \n",
    "        Returns\n",
    "        -------\n",
    "        y_pred: (m x 1) prediction vector\n",
    "        '''\n",
    "        y_pred = X.dot(self.w)\n",
    "        return y_pred"
   ]
  },
  {
   "cell_type": "code",
   "execution_count": 37,
   "id": "e8cb542a",
   "metadata": {},
   "outputs": [
    {
     "name": "stdout",
     "output_type": "stream",
     "text": [
      "Learned weights (21,)\n",
      "[-119538.88727331  -72998.89291461   44190.13831427   60593.32042964\n",
      "  406585.5925187   -24158.04285808    3850.70515458   15499.70479731\n",
      "   12510.39648402  -17712.5746553    50811.53511382  -33976.3123616\n",
      "  -28491.99541738   80074.45634512  -80074.45634511   12049.12316908\n",
      "    5367.80295863  -11698.59197109   40573.19383872   -8865.78612662\n",
      "  633511.4365063 ]\n",
      "Prediction on X_val\n",
      "[1065497.60297825  159686.28788216 1136388.13020609 ... 1105701.50888822\n",
      " -490471.72987144 2230620.56565472]\n"
     ]
    }
   ],
   "source": [
    "# Testing out functions\n",
    "test = LinearRegression(100)\n",
    "test.train(X_train, y_train)\n",
    "print(\"Learned weights \" + str(test.w.shape))\n",
    "print(test.w)\n",
    "print(\"Prediction on X_val\")\n",
    "print(test.predict(X_val))"
   ]
  },
  {
   "cell_type": "markdown",
   "id": "c48a741e",
   "metadata": {
    "id": "c48a741e"
   },
   "source": [
    "**Train, Evaluate, and Interpret Linear Regression Model**"
   ]
  },
  {
   "cell_type": "markdown",
   "id": "18ae0161",
   "metadata": {
    "id": "18ae0161"
   },
   "source": [
    "**1.11. A) Train a linear regression model ($\\alpha = 0$) on the auto MPG training data. Make predictions and report the mean-squared error (MSE) on the training, validation, and test sets. Report the first 5 predictions on the test set, along with the actual labels.**"
   ]
  },
  {
   "cell_type": "code",
   "execution_count": 38,
   "id": "252db724",
   "metadata": {
    "id": "252db724"
   },
   "outputs": [
    {
     "name": "stdout",
     "output_type": "stream",
     "text": [
      "Training Set MSE:\t207998882057.26434\n",
      "Validation Set MSE:\t207623039616.38547\n",
      "Test Set MSE:\t\t217040724096.54614\n",
      "First 5 test set:\n",
      "Predictions:\t[651676.1, 429815.93, 63016.44, 495004.67, 1081959.75]\n",
      "Actual:\t\t[501000, 440000, 140000, 476999, 620000]\n"
     ]
    }
   ],
   "source": [
    "### Your code here\n",
    "linearRegModel = LinearRegression(0)\n",
    "linearRegModel.train(X_train, y_train)\n",
    "\n",
    "def mse(y_observed, y_predicted):\n",
    "    resid = np.square(y_observed-y_predicted)\n",
    "    return np.mean(resid)\n",
    "\n",
    "\n",
    "print(\"Training Set MSE:\\t\" + str(mse(y_train, linearRegModel.predict(X_train))))\n",
    "print(\"Validation Set MSE:\\t\" + str(mse(y_val, linearRegModel.predict(X_val))))\n",
    "print(\"Test Set MSE:\\t\\t\" + str(mse(y_test, linearRegModel.predict(X_test))))\n",
    "print(\"First 5 test set:\")\n",
    "predictions = linearRegModel.predict(X_test)\n",
    "print(\"Predictions:\\t\" + str([round(x, 2) for x in predictions[:5]]))\n",
    "print(\"Actual:\\t\\t\" + str(y_test[:5].tolist()))"
   ]
  },
  {
   "cell_type": "markdown",
   "id": "9fad4d6f",
   "metadata": {
    "id": "9fad4d6f"
   },
   "source": [
    "**B) As a baseline model, use the mean of the training labels (auto_mpg_y_train) as the prediction for all instances. Report the mean-squared error (MSE) on the training, validation, and test sets using this baseline. This is a common baseline used in regression problems and tells you if your model is any good. Your linear regression MSEs should be much lower than these baseline MSEs.**"
   ]
  },
  {
   "cell_type": "code",
   "execution_count": 39,
   "id": "74d948c5",
   "metadata": {
    "id": "74d948c5"
   },
   "outputs": [
    {
     "name": "stdout",
     "output_type": "stream",
     "text": [
      "Training Set Baseline MSE:\t633481688967.5986\n",
      "Validation Set Baseline MSE:\t713262162485.3646\n",
      "Test Set Baseline MSE:\t\t695283040545.8278\n"
     ]
    }
   ],
   "source": [
    "### Your code here\n",
    "y_train_mean = np.mean(y_train)\n",
    "y_train_baseline = np.full((len(y_train), ), y_train_mean)\n",
    "print(\"Training Set Baseline MSE:\\t\" + str(mse(y_train, y_train_baseline)))\n",
    "\n",
    "y_val_mean = np.mean(y_val)\n",
    "y_val_baseline = np.full((len(y_val), ), y_val_mean)\n",
    "print(\"Validation Set Baseline MSE:\\t\" + str(mse(y_val, y_val_baseline)))\n",
    "\n",
    "y_test_mean = np.mean(y_test)\n",
    "y_test_baseline = np.full((len(y_test), ), y_test_mean)\n",
    "print(\"Test Set Baseline MSE:\\t\\t\" + str(mse(y_test, y_test_baseline)))"
   ]
  },
  {
   "cell_type": "markdown",
   "id": "726f5bb6",
   "metadata": {
    "id": "726f5bb6"
   },
   "source": [
    "**1.12. Interpret your model trained on the auto MPG dataset using a bar chart of the model weights. Make sure to label the bars (x-axis) and don't forget the bias term! Use lecture 3, slide 15 as a reference. According to your model, which features are the greatest contributors to the selling price**"
   ]
  },
  {
   "cell_type": "code",
   "execution_count": 40,
   "id": "9fccabaa",
   "metadata": {
    "id": "9fccabaa"
   },
   "outputs": [
    {
     "data": {
      "image/png": "[encoded data removed]",
      "text/plain": [
       "<Figure size 720x360 with 1 Axes>"
      ]
     },
     "metadata": {
      "needs_background": "light"
     },
     "output_type": "display_data"
    }
   ],
   "source": [
    "### Your code here\n",
    "features = list(transformed_auto_df.columns)\n",
    "features.append(\"Bias Term\")\n",
    "fig = plt.figure(figsize = (10,5))\n",
    "ax = sns.barplot(x=features, y=linearRegModel.w)\n",
    "ax.tick_params(axis='x', rotation=90)"
   ]
  },
  {
   "cell_type": "markdown",
   "id": "c12c284a",
   "metadata": {
    "id": "c12c284a"
   },
   "source": [
    "**Tune Regularization Parameter $\\alpha$**"
   ]
  },
  {
   "cell_type": "markdown",
   "id": "2a3e73e6",
   "metadata": {
    "id": "2a3e73e6"
   },
   "source": [
    "**Now, let's do ridge regression and tune the $\\alpha$ regularization parameter on the auto MPG dataset.**\n",
    "\n",
    "**1.13. Sweep out values for $\\alpha$ using `alphas = np.logspace(-2, 1, 10)`. Perform a grid search over these $\\alpha$ values, recording the training and validation MSEs for each $\\alpha$. A simple grid search is fine, no need for k-fold cross validation. Plot the training and validation MSEs as a function of $\\alpha$ on a single figure. Make sure to label the axes and the training and validation MSE curves. Use a log scale for the x-axis.**"
   ]
  },
  {
   "cell_type": "code",
   "execution_count": 41,
   "id": "97cb6245",
   "metadata": {
    "id": "97cb6245"
   },
   "outputs": [
    {
     "data": {
      "image/png": "[encoded data removed]",
      "text/plain": [
       "<Figure size 432x288 with 1 Axes>"
      ]
     },
     "metadata": {
      "needs_background": "light"
     },
     "output_type": "display_data"
    }
   ],
   "source": [
    "### Your code here\n",
    "alphas = np.logspace(-2, 1, 10)\n",
    "training_MSEs = []\n",
    "validation_MSEs = []\n",
    "for a in alphas:\n",
    "    linearRegModel = LinearRegression(a)\n",
    "    linearRegModel.train(X_train, y_train)\n",
    "    training_MSEs.append(mse(y_train, linearRegModel.predict(X_train)))\n",
    "    validation_MSEs.append(mse(y_val, linearRegModel.predict(X_val)))\n",
    "\n",
    "plt.plot(np.log(alphas), training_MSEs, '--bo', label = \"Training MSE\")\n",
    "plt.plot(np.log(alphas), validation_MSEs, '--ro', label = \"Validation MSE\")\n",
    "plt.xlabel(\"Alphas\")\n",
    "plt.ylabel(\"Mean Squared Error\")\n",
    "plt.legend()\n",
    "plt.show()"
   ]
  },
  {
   "cell_type": "markdown",
   "id": "bcc61366",
   "metadata": {
    "id": "bcc61366"
   },
   "source": [
    "**Explain your plot above. How do training and validation MSE behave with decreasing model complexity (increasing $\\alpha$)?**"
   ]
  },
  {
   "cell_type": "code",
   "execution_count": 42,
   "id": "170c66bd",
   "metadata": {
    "id": "170c66bd"
   },
   "outputs": [
    {
     "name": "stdout",
     "output_type": "stream",
     "text": [
      "Both seem to improve with decreasing model complexity, or by increasing alpha. This makes sense because simpler models usually perform better\n"
     ]
    }
   ],
   "source": [
    "### Your answer here\n",
    "print(\"Both seem to improve with decreasing model complexity, or by increasing alpha. This makes sense because simpler models usually perform better\")"
   ]
  },
  {
   "cell_type": "markdown",
   "id": "faf60747",
   "metadata": {
    "id": "faf60747"
   },
   "source": [
    "**1.14. Using the $\\alpha$ which gave the best validation MSE above, train a model on the training set. Report the value of $\\alpha$ and its training, validation, and test MSE. This is the final tuned model which you would deploy in production.**"
   ]
  },
  {
   "cell_type": "code",
   "execution_count": 43,
   "id": "4ec8f5a1",
   "metadata": {
    "id": "4ec8f5a1"
   },
   "outputs": [
    {
     "name": "stdout",
     "output_type": "stream",
     "text": [
      "Tuned, best alpha value:\t\t10.0\n",
      "Final Tuned Model Training Set MSE:\t208002506499.44577\n",
      "Final Tuned Model Validation Set MSE:\t207752278308.3771\n",
      "Final Tuned Model Test Set MSE:\t\t217178062503.95114\n"
     ]
    }
   ],
   "source": [
    "### Your code here\n",
    "bestAlpha = alphas[validation_MSEs.index(max(validation_MSEs))]\n",
    "linearRegModel = LinearRegression(bestAlpha)\n",
    "linearRegModel.train(X_train, y_train)\n",
    "\n",
    "print(\"Tuned, best alpha value:\\t\\t\"+str(bestAlpha))\n",
    "print(\"Final Tuned Model Training Set MSE:\\t\" + str(mse(y_train, linearRegModel.predict(X_train))))\n",
    "print(\"Final Tuned Model Validation Set MSE:\\t\" + str(mse(y_val, linearRegModel.predict(X_val))))\n",
    "print(\"Final Tuned Model Test Set MSE:\\t\\t\" + str(mse(y_test, linearRegModel.predict(X_test))))"
   ]
  },
  {
   "cell_type": "markdown",
   "id": "05d5e341",
   "metadata": {
    "id": "05d5e341"
   },
   "source": [
    "# **Part 2: Logistic Regression**\n",
    "\n",
    "**Gender Recognition by Voice and Speech Analysis**\n",
    "\n",
    "**This dataset is used to identify a voice as male or female, based upon acoustic properties of the voice and speech.**"
   ]
  },
  {
   "cell_type": "code",
   "execution_count": 44,
   "id": "f585b079",
   "metadata": {
    "id": "f585b079"
   },
   "outputs": [
    {
     "data": {
      "text/html": [
       "<div>\n",
       "<style scoped>\n",
       "    .dataframe tbody tr th:only-of-type {\n",
       "        vertical-align: middle;\n",
       "    }\n",
       "\n",
       "    .dataframe tbody tr th {\n",
       "        vertical-align: top;\n",
       "    }\n",
       "\n",
       "    .dataframe thead th {\n",
       "        text-align: right;\n",
       "    }\n",
       "</style>\n",
       "<table border=\"1\" class=\"dataframe\">\n",
       "  <thead>\n",
       "    <tr style=\"text-align: right;\">\n",
       "      <th></th>\n",
       "      <th>meanfreq</th>\n",
       "      <th>sd</th>\n",
       "      <th>median</th>\n",
       "      <th>Q25</th>\n",
       "      <th>Q75</th>\n",
       "      <th>IQR</th>\n",
       "      <th>skew</th>\n",
       "      <th>kurt</th>\n",
       "      <th>sp.ent</th>\n",
       "      <th>sfm</th>\n",
       "      <th>...</th>\n",
       "      <th>centroid</th>\n",
       "      <th>meanfun</th>\n",
       "      <th>minfun</th>\n",
       "      <th>maxfun</th>\n",
       "      <th>meandom</th>\n",
       "      <th>mindom</th>\n",
       "      <th>maxdom</th>\n",
       "      <th>dfrange</th>\n",
       "      <th>modindx</th>\n",
       "      <th>label</th>\n",
       "    </tr>\n",
       "  </thead>\n",
       "  <tbody>\n",
       "    <tr>\n",
       "      <th>0</th>\n",
       "      <td>0.059781</td>\n",
       "      <td>0.064241</td>\n",
       "      <td>0.032027</td>\n",
       "      <td>0.015071</td>\n",
       "      <td>0.090193</td>\n",
       "      <td>0.075122</td>\n",
       "      <td>12.863462</td>\n",
       "      <td>274.402906</td>\n",
       "      <td>0.893369</td>\n",
       "      <td>0.491918</td>\n",
       "      <td>...</td>\n",
       "      <td>0.059781</td>\n",
       "      <td>0.084279</td>\n",
       "      <td>0.015702</td>\n",
       "      <td>0.275862</td>\n",
       "      <td>0.007812</td>\n",
       "      <td>0.007812</td>\n",
       "      <td>0.007812</td>\n",
       "      <td>0.000000</td>\n",
       "      <td>0.000000</td>\n",
       "      <td>male</td>\n",
       "    </tr>\n",
       "    <tr>\n",
       "      <th>1</th>\n",
       "      <td>0.066009</td>\n",
       "      <td>0.067310</td>\n",
       "      <td>0.040229</td>\n",
       "      <td>0.019414</td>\n",
       "      <td>0.092666</td>\n",
       "      <td>0.073252</td>\n",
       "      <td>22.423285</td>\n",
       "      <td>634.613855</td>\n",
       "      <td>0.892193</td>\n",
       "      <td>0.513724</td>\n",
       "      <td>...</td>\n",
       "      <td>0.066009</td>\n",
       "      <td>0.107937</td>\n",
       "      <td>0.015826</td>\n",
       "      <td>0.250000</td>\n",
       "      <td>0.009014</td>\n",
       "      <td>0.007812</td>\n",
       "      <td>0.054688</td>\n",
       "      <td>0.046875</td>\n",
       "      <td>0.052632</td>\n",
       "      <td>male</td>\n",
       "    </tr>\n",
       "    <tr>\n",
       "      <th>2</th>\n",
       "      <td>0.077316</td>\n",
       "      <td>0.083829</td>\n",
       "      <td>0.036718</td>\n",
       "      <td>0.008701</td>\n",
       "      <td>0.131908</td>\n",
       "      <td>0.123207</td>\n",
       "      <td>30.757155</td>\n",
       "      <td>1024.927705</td>\n",
       "      <td>0.846389</td>\n",
       "      <td>0.478905</td>\n",
       "      <td>...</td>\n",
       "      <td>0.077316</td>\n",
       "      <td>0.098706</td>\n",
       "      <td>0.015656</td>\n",
       "      <td>0.271186</td>\n",
       "      <td>0.007990</td>\n",
       "      <td>0.007812</td>\n",
       "      <td>0.015625</td>\n",
       "      <td>0.007812</td>\n",
       "      <td>0.046512</td>\n",
       "      <td>male</td>\n",
       "    </tr>\n",
       "    <tr>\n",
       "      <th>3</th>\n",
       "      <td>0.151228</td>\n",
       "      <td>0.072111</td>\n",
       "      <td>0.158011</td>\n",
       "      <td>0.096582</td>\n",
       "      <td>0.207955</td>\n",
       "      <td>0.111374</td>\n",
       "      <td>1.232831</td>\n",
       "      <td>4.177296</td>\n",
       "      <td>0.963322</td>\n",
       "      <td>0.727232</td>\n",
       "      <td>...</td>\n",
       "      <td>0.151228</td>\n",
       "      <td>0.088965</td>\n",
       "      <td>0.017798</td>\n",
       "      <td>0.250000</td>\n",
       "      <td>0.201497</td>\n",
       "      <td>0.007812</td>\n",
       "      <td>0.562500</td>\n",
       "      <td>0.554688</td>\n",
       "      <td>0.247119</td>\n",
       "      <td>male</td>\n",
       "    </tr>\n",
       "    <tr>\n",
       "      <th>4</th>\n",
       "      <td>0.135120</td>\n",
       "      <td>0.079146</td>\n",
       "      <td>0.124656</td>\n",
       "      <td>0.078720</td>\n",
       "      <td>0.206045</td>\n",
       "      <td>0.127325</td>\n",
       "      <td>1.101174</td>\n",
       "      <td>4.333713</td>\n",
       "      <td>0.971955</td>\n",
       "      <td>0.783568</td>\n",
       "      <td>...</td>\n",
       "      <td>0.135120</td>\n",
       "      <td>0.106398</td>\n",
       "      <td>0.016931</td>\n",
       "      <td>0.266667</td>\n",
       "      <td>0.712812</td>\n",
       "      <td>0.007812</td>\n",
       "      <td>5.484375</td>\n",
       "      <td>5.476562</td>\n",
       "      <td>0.208274</td>\n",
       "      <td>male</td>\n",
       "    </tr>\n",
       "  </tbody>\n",
       "</table>\n",
       "<p>5 rows × 21 columns</p>\n",
       "</div>"
      ],
      "text/plain": [
       "   meanfreq        sd    median       Q25       Q75       IQR       skew  \\\n",
       "0  0.059781  0.064241  0.032027  0.015071  0.090193  0.075122  12.863462   \n",
       "1  0.066009  0.067310  0.040229  0.019414  0.092666  0.073252  22.423285   \n",
       "2  0.077316  0.083829  0.036718  0.008701  0.131908  0.123207  30.757155   \n",
       "3  0.151228  0.072111  0.158011  0.096582  0.207955  0.111374   1.232831   \n",
       "4  0.135120  0.079146  0.124656  0.078720  0.206045  0.127325   1.101174   \n",
       "\n",
       "          kurt    sp.ent       sfm  ...  centroid   meanfun    minfun  \\\n",
       "0   274.402906  0.893369  0.491918  ...  0.059781  0.084279  0.015702   \n",
       "1   634.613855  0.892193  0.513724  ...  0.066009  0.107937  0.015826   \n",
       "2  1024.927705  0.846389  0.478905  ...  0.077316  0.098706  0.015656   \n",
       "3     4.177296  0.963322  0.727232  ...  0.151228  0.088965  0.017798   \n",
       "4     4.333713  0.971955  0.783568  ...  0.135120  0.106398  0.016931   \n",
       "\n",
       "     maxfun   meandom    mindom    maxdom   dfrange   modindx  label  \n",
       "0  0.275862  0.007812  0.007812  0.007812  0.000000  0.000000   male  \n",
       "1  0.250000  0.009014  0.007812  0.054688  0.046875  0.052632   male  \n",
       "2  0.271186  0.007990  0.007812  0.015625  0.007812  0.046512   male  \n",
       "3  0.250000  0.201497  0.007812  0.562500  0.554688  0.247119   male  \n",
       "4  0.266667  0.712812  0.007812  5.484375  5.476562  0.208274   male  \n",
       "\n",
       "[5 rows x 21 columns]"
      ]
     },
     "execution_count": 44,
     "metadata": {},
     "output_type": "execute_result"
    }
   ],
   "source": [
    "voice_df = pd.read_csv(\"voice-classification.csv\")\n",
    "voice_df.head()"
   ]
  },
  {
   "cell_type": "markdown",
   "id": "f0b513a2",
   "metadata": {
    "id": "f0b513a2"
   },
   "source": [
    "**Data - Checking Rows & Columns**"
   ]
  },
  {
   "cell_type": "code",
   "execution_count": 45,
   "id": "c7505761",
   "metadata": {
    "id": "c7505761"
   },
   "outputs": [
    {
     "name": "stdout",
     "output_type": "stream",
     "text": [
      "(3168, 21)\n"
     ]
    }
   ],
   "source": [
    "#Number of Rows & Columns\n",
    "print(voice_df.shape) "
   ]
  },
  {
   "cell_type": "markdown",
   "id": "305b947d",
   "metadata": {
    "id": "305b947d"
   },
   "source": [
    "**2.1 What is the probability of observing different  categories in the Label feature of the dataset?**\n",
    "\n",
    "This is mainly to check class imbalance in the dataset, and to apply different techniques to balance the dataset, which we will learn later."
   ]
  },
  {
   "cell_type": "code",
   "execution_count": 46,
   "id": "5fab9321",
   "metadata": {
    "id": "5fab9321"
   },
   "outputs": [
    {
     "data": {
      "image/png": "[encoded data removed]",
      "text/plain": [
       "<Figure size 432x288 with 1 Axes>"
      ]
     },
     "metadata": {
      "needs_background": "light"
     },
     "output_type": "display_data"
    },
    {
     "name": "stdout",
     "output_type": "stream",
     "text": [
      "The categories in the Label feature seem balanced\n",
      "male      1584\n",
      "female    1584\n",
      "Name: label, dtype: int64\n"
     ]
    }
   ],
   "source": [
    "#code here\n",
    "#voice_df[\"label\"]\n",
    "fig, ax = plt.subplots()\n",
    "voice_df['label'].value_counts().plot(ax=ax, kind='bar')\n",
    "plt.show()\n",
    "print(\"The categories in the Label feature seem balanced\")\n",
    "print(voice_df['label'].value_counts())"
   ]
  },
  {
   "cell_type": "markdown",
   "id": "6b8ae809",
   "metadata": {
    "id": "6b8ae809"
   },
   "source": [
    "**2.2 Plot the relationships between the label and the 20 numerical features using a small multiple of box plots. Make sure to label the axes. What useful information do this plot provide?**"
   ]
  },
  {
   "cell_type": "code",
   "execution_count": 47,
   "id": "da9b532f",
   "metadata": {
    "id": "da9b532f"
   },
   "outputs": [
    {
     "name": "stdout",
     "output_type": "stream",
     "text": [
      "These plots provide a great deal of useful information. Because these boxplots all seem to have significant overlap, there is not a single feature that will make this categorization easier. However, some features do seem to show a more significant difference than others. \n"
     ]
    },
    {
     "data": {
      "image/png": "[encoded data removed]",
      "text/plain": [
       "<Figure size 2160x1440 with 20 Axes>"
      ]
     },
     "metadata": {
      "needs_background": "light"
     },
     "output_type": "display_data"
    }
   ],
   "source": [
    "figure, axes = plt.subplots(4, 5, figsize = (30, 20))\n",
    "features = list(voice_df.columns)[:20]\n",
    "for index, feature in enumerate(features):\n",
    "    xval = index%4\n",
    "    yval = int(index/4)\n",
    "    sns.boxplot(x='label',y=feature, data=voice_df, ax=axes[xval,yval])\n",
    "print(\"These plots provide a great deal of useful information. Because these boxplots all seem to have significant overlap, there is not a single feature that will make this categorization easier. However, some features do seem to show a more significant difference than others. \")"
   ]
  },
  {
   "cell_type": "markdown",
   "id": "c0cdbd8c",
   "metadata": {
    "id": "c0cdbd8c"
   },
   "source": [
    "**2.3 Plot the correlation matrix, and check if there is high correlation between the given numerical features (Threshold >=0.9). If yes, drop those highly correlated features from the dataframe. Why is necessary to drop those columns before proceeding further?**"
   ]
  },
  {
   "cell_type": "code",
   "execution_count": 48,
   "id": "0fdcb929",
   "metadata": {
    "id": "0fdcb929"
   },
   "outputs": [
    {
     "data": {
      "image/png": "[encoded data removed]",
      "text/plain": [
       "<Figure size 360x360 with 2 Axes>"
      ]
     },
     "metadata": {
      "needs_background": "light"
     },
     "output_type": "display_data"
    },
    {
     "name": "stdout",
     "output_type": "stream",
     "text": [
      "Top Absolute Correlations\n",
      "<class 'pandas.core.series.Series'>\n"
     ]
    },
    {
     "data": {
      "text/html": [
       "<div>\n",
       "<style scoped>\n",
       "    .dataframe tbody tr th:only-of-type {\n",
       "        vertical-align: middle;\n",
       "    }\n",
       "\n",
       "    .dataframe tbody tr th {\n",
       "        vertical-align: top;\n",
       "    }\n",
       "\n",
       "    .dataframe thead th {\n",
       "        text-align: right;\n",
       "    }\n",
       "</style>\n",
       "<table border=\"1\" class=\"dataframe\">\n",
       "  <thead>\n",
       "    <tr style=\"text-align: right;\">\n",
       "      <th></th>\n",
       "      <th></th>\n",
       "      <th>0</th>\n",
       "    </tr>\n",
       "  </thead>\n",
       "  <tbody>\n",
       "    <tr>\n",
       "      <th>meanfreq</th>\n",
       "      <th>centroid</th>\n",
       "      <td>1.000000</td>\n",
       "    </tr>\n",
       "    <tr>\n",
       "      <th>maxdom</th>\n",
       "      <th>dfrange</th>\n",
       "      <td>0.999838</td>\n",
       "    </tr>\n",
       "    <tr>\n",
       "      <th>skew</th>\n",
       "      <th>kurt</th>\n",
       "      <td>0.977020</td>\n",
       "    </tr>\n",
       "    <tr>\n",
       "      <th>median</th>\n",
       "      <th>centroid</th>\n",
       "      <td>0.925445</td>\n",
       "    </tr>\n",
       "    <tr>\n",
       "      <th rowspan=\"2\" valign=\"top\">meanfreq</th>\n",
       "      <th>median</th>\n",
       "      <td>0.925445</td>\n",
       "    </tr>\n",
       "    <tr>\n",
       "      <th>Q25</th>\n",
       "      <td>0.911416</td>\n",
       "    </tr>\n",
       "    <tr>\n",
       "      <th>Q25</th>\n",
       "      <th>centroid</th>\n",
       "      <td>0.911416</td>\n",
       "    </tr>\n",
       "  </tbody>\n",
       "</table>\n",
       "</div>"
      ],
      "text/plain": [
       "                          0\n",
       "meanfreq centroid  1.000000\n",
       "maxdom   dfrange   0.999838\n",
       "skew     kurt      0.977020\n",
       "median   centroid  0.925445\n",
       "meanfreq median    0.925445\n",
       "         Q25       0.911416\n",
       "Q25      centroid  0.911416"
      ]
     },
     "metadata": {},
     "output_type": "display_data"
    },
    {
     "name": "stdout",
     "output_type": "stream",
     "text": [
      "['kurt', 'centroid', 'Q25', 'median', 'dfrange']\n",
      "It is important to remove these highly correlated features because multicolinearity may lead to solutions that are varying and numerically unstable\n"
     ]
    }
   ],
   "source": [
    "corr = voice_df.corr()\n",
    "f, ax = plt.subplots(figsize=(5, 5))\n",
    "sns.heatmap(corr)\n",
    "threshold = 0.9\n",
    "plt.show()\n",
    "\n",
    "def get_redundant_pairs(df):\n",
    "    pairs_to_drop = set()\n",
    "    cols = df.columns\n",
    "    for i in range(0, df.shape[1]):\n",
    "        for j in range(0, i+1):\n",
    "            pairs_to_drop.add((cols[i], cols[j]))\n",
    "    return pairs_to_drop\n",
    "\n",
    "def get_top_abs_correlations(df, threshold = 0.9):\n",
    "    au_corr = df.abs().unstack()\n",
    "    print(type(au_corr))\n",
    "    labels_to_drop = get_redundant_pairs(df)\n",
    "    au_corr = au_corr.drop(labels=labels_to_drop).sort_values(ascending=False).to_frame()\n",
    "    au_corr = au_corr[au_corr[0] >= threshold]\n",
    "    return au_corr\n",
    "\n",
    "print(\"Top Absolute Correlations\")\n",
    "topCorr = get_top_abs_correlations(corr, 0.9)\n",
    "display(topCorr)\n",
    "toDrop = list(set([x[1] for x in topCorr.index.values]))\n",
    "print(toDrop)\n",
    "filtered_voice_df = voice_df.drop(labels=toDrop, axis=1)\n",
    "print(\"It is important to remove these highly correlated features because multicolinearity may lead to solutions that are varying and numerically unstable\")"
   ]
  },
  {
   "cell_type": "markdown",
   "id": "6e1eb8c4",
   "metadata": {
    "id": "6e1eb8c4"
   },
   "source": [
    "**Separating Features & Y variable from the processed dataset**\n",
    "\n",
    "**Please note to replace the dataframe below with the new dataframe created after removing highly correlated features**"
   ]
  },
  {
   "cell_type": "code",
   "execution_count": 49,
   "id": "0697d57b",
   "metadata": {
    "id": "0697d57b"
   },
   "outputs": [
    {
     "name": "stdout",
     "output_type": "stream",
     "text": [
      "Index(['meanfreq', 'sd', 'Q75', 'IQR', 'skew', 'sp.ent', 'sfm', 'mode',\n",
      "       'meanfun', 'minfun', 'maxfun', 'meandom', 'mindom', 'maxdom',\n",
      "       'modindx'],\n",
      "      dtype='object')\n"
     ]
    }
   ],
   "source": [
    "# Split data into features and labels\n",
    "voice_X = filtered_voice_df.drop(columns=['label']) #replace \"voice_df1\" with your dataframe from 2.3 to make sure the code runs\n",
    "voice_y = filtered_voice_df['label']\n",
    "print(voice_X.columns)"
   ]
  },
  {
   "cell_type": "markdown",
   "id": "42edec62",
   "metadata": {
    "id": "42edec62"
   },
   "source": [
    "**2.4 Apply the following pre-processing steps:**\n",
    "\n",
    "1) Use OrdinalEncoding to encode the label in the dataset (male & female)\n",
    "\n",
    "2) Convert the label from a Pandas series to a Numpy (m x 1) vector. If you don't do this, it may cause problems when implementing the logistic regression model.\n",
    "\n",
    "3)Split the dataset into training (60%), validation (20%), and test (20%) sets.\n",
    "\n",
    "4) Standardize the columns in the feature matrices. To avoid information leakage, learn the standardization parameters from training, and then apply training, validation and test dataset.\n",
    "\n",
    "5) Add a column of ones to the feature matrices of train, validation and test dataset. This is a common trick so that we can learn a coefficient for the bias term of a linear model."
   ]
  },
  {
   "cell_type": "code",
   "execution_count": 50,
   "id": "a99b06f8",
   "metadata": {
    "id": "a99b06f8"
   },
   "outputs": [
    {
     "name": "stdout",
     "output_type": "stream",
     "text": [
      ">>>Part 1/2: Ordinal encoding/Conversion to numpy\n",
      "Data before ordinal encoding:\t\n"
     ]
    },
    {
     "data": {
      "text/plain": [
       "0    male\n",
       "1    male\n",
       "2    male\n",
       "3    male\n",
       "4    male\n",
       "Name: label, dtype: object"
      ]
     },
     "metadata": {},
     "output_type": "display_data"
    },
    {
     "name": "stdout",
     "output_type": "stream",
     "text": [
      "Data after ordinal encoding/conversion to numpy:\n",
      "[0 0 0 ... 1 1 1]\n",
      "\n",
      ">>>Part 3: Train-test split\n",
      "Shape of training data\n",
      "X_train:\t(1900, 15)\n",
      "y_train:\t(1900,)\n",
      "\n",
      "Shape of validation data\n",
      "X_val:\t\t(634, 15)\n",
      "y_val:\t\t(634,)\n",
      "\n",
      "Shape of test data\n",
      "X_test:\t\t(634, 15)\n",
      "y_test:\t\t(634,)\n",
      "\n",
      ">>>Part 4/5: Scaling data and adding 1s\n",
      "First row of X_train before:\n",
      "[0.20855907 0.03942026 0.22710645 0.03022489 3.1048892  0.84013854\n",
      " 0.27603304 0.21241379 0.17152469 0.04853387 0.27745665 1.44497283\n",
      " 0.0234375  7.5703125  0.07572862]\n",
      "\n",
      "First row of X_train after:\n",
      "[ 0.92810852 -1.04929751  0.10142764 -1.25571826 -0.01439802 -1.1898484\n",
      " -0.73465153  0.59936436  0.8979924   0.60604727  0.6172792   1.14312763\n",
      " -0.47088706  0.67858718 -0.8089197   1.        ]\n"
     ]
    }
   ],
   "source": [
    "# 1/2. Encode the label in the dataset, and convert to numpy vector\n",
    "print(\">>>Part 1/2: Ordinal encoding/Conversion to numpy\")\n",
    "print(\"Data before ordinal encoding:\\t\")\n",
    "display(voice_y.head())\n",
    "\n",
    "print(\"Data after ordinal encoding/conversion to numpy:\")\n",
    "gender_mapper = {\"male\":0, \"female\":1}\n",
    "voice_y = voice_y.replace(gender_mapper)\n",
    "voice_y = voice_y.to_numpy()\n",
    "print(voice_y)\n",
    "\n",
    "# 3. Split the dataset into training (60%), validation (20%), and test (20%) sets\n",
    "X_dev, X_test, y_dev, y_test = train_test_split(voice_X, voice_y, test_size = 0.2, random_state=42)\n",
    "X_train, X_val, y_train, y_val = train_test_split(X_dev, y_dev, test_size = 0.25, random_state=84)\n",
    "print(\"\\n>>>Part 3: Train-test split\")\n",
    "print(\"Shape of training data\\nX_train:\\t\" + str(X_train.shape) + \"\\ny_train:\\t\" + str(y_train.shape))\n",
    "print(\"\\nShape of validation data\\nX_val:\\t\\t\" + str(X_val.shape) + \"\\ny_val:\\t\\t\" + str(y_val.shape))\n",
    "print(\"\\nShape of test data\\nX_test:\\t\\t\" + str(X_test.shape) + \"\\ny_test:\\t\\t\" + str(y_test.shape))\n",
    "\n",
    "\n",
    "# 4. Standardize the columns in the feature matrices\n",
    "print(\"\\n>>>Part 4/5: Scaling data and adding 1s\")\n",
    "print(\"First row of X_train before:\")\n",
    "print(np.asarray([round(num, 8) for num in X_train.head(1).values.tolist()[0]]))\n",
    "scaler = StandardScaler()\n",
    "X_train_scaled = scaler.fit_transform(X_train) #fit and transform based on x_train, but only transform for val and test\n",
    "X_val_scaled = scaler.transform(X_val)\n",
    "X_test_scaled = scaler.transform(X_test)\n",
    "\n",
    "\n",
    "# 5. Add a column of ones to the feature matrices\n",
    "X_train = np.hstack((X_train_scaled, np.ones((len(X_train_scaled),1))))\n",
    "X_val = np.hstack((X_val_scaled, np.ones((len(X_val_scaled),1))))\n",
    "X_test = np.hstack((X_test_scaled, np.ones((len(X_test_scaled),1))))\n",
    "print(\"\\nFirst row of X_train after:\")\n",
    "print(X_train[0])"
   ]
  },
  {
   "cell_type": "markdown",
   "id": "ff63db53",
   "metadata": {
    "id": "ff63db53"
   },
   "source": [
    "**2.5 Implement Logistic Regression**\n",
    "\n",
    "We will now implement logistic regression with L2 regularization. Given an (m x n) feature matrix $X$, an (m x 1) label vector $y$, and an (n x 1) weight vector $w$, the hypothesis function for logistic regression is:\n",
    "\n",
    "$$\n",
    "y = \\sigma(X w)\n",
    "$$\n",
    "\n",
    "where $\\sigma(x) = \\frac{1}{1 + e^{-x}}$, i.e. the sigmoid function. This function scales the prediction to be a probability between 0 and 1, and can then be thresholded to get a discrete class prediction.\n",
    "\n",
    "Just as with linear regression, our objective in logistic regression is to learn the weights $𝑤$ which best fit the data. For L2-regularized logistic regression, we find an optimal $w$ to minimize the following loss function:\n",
    "\n",
    "$$\n",
    "\\min_{w} \\ -y^T \\ \\text{log}(\\sigma(Xw)) \\ - \\  (\\mathbf{1} - y)^T \\ \\text{log}(\\mathbf{1} - \\sigma(Xw)) \\ + \\ \\alpha \\| w \\|^2_2 \\\\\n",
    "$$\n",
    "\n",
    "Unlike linear regression, however, logistic regression has no closed-form solution for the optimal $w$. So, we will use gradient descent to find the optimal $w$. The (n x 1) gradient vector $g$ for the loss function above is:\n",
    "\n",
    "$$\n",
    "g = X^T \\Big(\\sigma(Xw) - y\\Big) + 2 \\alpha w\n",
    "$$\n",
    "\n",
    "Below is pseudocode for gradient descent to find the optimal $w$. You should first initialize $w$ (e.g. to a (n x 1) zero vector). Then, for some number of epochs $t$, you should update $w$ with $w - \\eta g $, where $\\eta$ is the learning rate and $g$ is the gradient. You can learn more about gradient descent [here](https://www.coursera.org/lecture/machine-learning/gradient-descent-8SpIM).\n",
    "\n",
    "> $w = \\mathbf{0}$\n",
    "> \n",
    "> $\\text{for } i = 1, 2, ..., t$\n",
    ">\n",
    "> $\\quad \\quad w = w - \\eta g $\n"
   ]
  },
  {
   "cell_type": "markdown",
   "id": "809b33ad",
   "metadata": {
    "id": "809b33ad"
   },
   "source": [
    "Implement a LogisticRegression class with five methods: train, predict, calculate_loss, calculate_gradient, and calculate_sigmoid. **You may NOT use sklearn for this implementation. It is highly recommended that you vectorize your code.**"
   ]
  },
  {
   "cell_type": "code",
   "execution_count": 51,
   "id": "0cdcee7c",
   "metadata": {
    "id": "0cdcee7c"
   },
   "outputs": [],
   "source": [
    "class LogisticRegression():\n",
    "    '''\n",
    "    Logistic regression model with L2 regularization.\n",
    "\n",
    "    Attributes\n",
    "    ----------\n",
    "    alpha: regularization parameter\n",
    "    t: number of epochs to run gradient descent\n",
    "    eta: learning rate for gradient descent\n",
    "    w: (n x 1) weight vector\n",
    "    '''\n",
    "    \n",
    "    def __init__(self, alpha, t, eta):\n",
    "        self.alpha = alpha\n",
    "        self.t = t\n",
    "        self.eta = eta\n",
    "        self.w = None\n",
    "\n",
    "    def train(self, X, y):\n",
    "        '''Trains logistic regression model using gradient descent \n",
    "        (sets w to its optimal value).\n",
    "        \n",
    "        Parameters\n",
    "        ----------\n",
    "        X : (m x n) feature matrix\n",
    "        y: (m x 1) label vector\n",
    "        \n",
    "        Returns\n",
    "        -------\n",
    "        losses: (t x 1) vector of losses at each epoch of gradient descent\n",
    "        '''\n",
    "        self.w = np.zeros(X.shape[1])\n",
    "        losses = []\n",
    "        for i in range(self.t):\n",
    "            self.w = self.w - self.eta*self.calculate_gradient(X, y)\n",
    "            losses.append(self.calculate_loss(X, y))\n",
    "            \n",
    "        return losses\n",
    "        \n",
    "        \n",
    "    def predict(self, X):\n",
    "        '''Predicts on X using trained model. Make sure to threshold \n",
    "        the predicted probability to return a 0 or 1 prediction.\n",
    "        \n",
    "        Parameters\n",
    "        ----------\n",
    "        X : (m x n) feature matrix\n",
    "        \n",
    "        Returns\n",
    "        -------\n",
    "        y_pred: (m x 1) 0/1 prediction vector\n",
    "        '''\n",
    "        y_pred = self.calculate_sigmoid((X.dot(self.w)))\n",
    "        y_pred = np.rint(y_pred)\n",
    "        return y_pred\n",
    "        ### Your code here\n",
    "    \n",
    "    def calculate_loss(self, X, y):\n",
    "        '''Calculates the logistic regression loss using X, y, w, \n",
    "        and alpha. Useful as a helper function for train().\n",
    "        \n",
    "        Parameters\n",
    "        ----------\n",
    "        X : (m x n) feature matrix\n",
    "        y: (m x 1) label vector\n",
    "        \n",
    "        Returns\n",
    "        -------\n",
    "        loss: (scalar) logistic regression loss\n",
    "        '''\n",
    "        sigmoid_Xw = self.calculate_sigmoid(X.dot(self.w))\n",
    "        firstTerm = -1*(y.T).dot(np.log(sigmoid_Xw))\n",
    "        secondTerm = -1*((1-y).T).dot(np.log(1-sigmoid_Xw))\n",
    "        \n",
    "        norm = 0\n",
    "        for w_i in self.w:\n",
    "            norm += np.power(w_i, 2)\n",
    "        norm = np.sqrt(norm)\n",
    "        thirdTerm = self.alpha*(norm)\n",
    "        loss = firstTerm + secondTerm + thirdTerm\n",
    "        return loss\n",
    "        \n",
    "    \n",
    "    def calculate_gradient(self, X, y):\n",
    "        '''Calculates the gradient of the logistic regression loss \n",
    "        using X, y, w, and alpha. Useful as a helper function \n",
    "        for train().\n",
    "        \n",
    "        Parameters\n",
    "        ----------\n",
    "        X : (m x n) feature matrix\n",
    "        y: (m x 1) label vector\n",
    "        \n",
    "        Returns\n",
    "        -------\n",
    "        gradient: (n x 1) gradient vector for logistic regression loss\n",
    "        '''\n",
    "        inner = self.calculate_sigmoid(X.dot(self.w))-y\n",
    "        gradient = (X.T).dot(inner) + 2*self.alpha*self.w\n",
    "        return gradient\n",
    "    \n",
    "    def calculate_sigmoid(self, x):\n",
    "        '''Calculates the sigmoid function on each element in vector x. \n",
    "        Useful as a helper function for predict(), calculate_loss(), \n",
    "        and calculate_gradient().\n",
    "        \n",
    "        Parameters\n",
    "        ----------\n",
    "        x: (m x 1) vector\n",
    "        \n",
    "        Returns\n",
    "        -------\n",
    "        sigmoid_x: (m x 1) vector of sigmoid on each element in x\n",
    "        '''\n",
    "        sigmoid_x = 1 / (1 + np.exp(-x))\n",
    "        return sigmoid_x\n",
    "        \n",
    "        \n",
    "        ### Your code here"
   ]
  },
  {
   "cell_type": "markdown",
   "id": "d6f34a6f",
   "metadata": {
    "id": "d6f34a6f"
   },
   "source": [
    "**2.6 Plot Loss over Epoch and Search the space randomly to find best hyperparameters.**\n",
    "\n",
    "A: Using your implementation above, train a logistic regression model **(alpha=0, t=100, eta=1e-3)** on the voice recognition training data. Plot the training loss over epochs. Make sure to label your axes. You should see the loss decreasing and start to converge. \n",
    "\n",
    "B: Using **alpha between (0,1), eta between(0, 0.001) and t between (0, 100)**, find the best hyperparameters for LogisticRegression. You can randomly search the space 20 times to find the best hyperparameters.\n",
    "\n",
    "C. Compare accuracy on the test dataset for both the scenarios."
   ]
  },
  {
   "cell_type": "code",
   "execution_count": 52,
   "id": "c785b3bb",
   "metadata": {
    "id": "c785b3bb",
    "scrolled": false
   },
   "outputs": [
    {
     "data": {
      "image/png": "[encoded data removed]",
      "text/plain": [
       "<Figure size 432x288 with 1 Axes>"
      ]
     },
     "metadata": {
      "needs_background": "light"
     },
     "output_type": "display_data"
    },
    {
     "name": "stdout",
     "output_type": "stream",
     "text": [
      "Alpha value:\t\t0\n",
      "Epoch length:\t\t100\n",
      "Learning rate:\t\t0.001\n",
      "Loss:\t\t\t185.96690533096108\n"
     ]
    },
    {
     "data": {
      "image/png": "[encoded data removed]",
      "text/plain": [
       "<Figure size 432x288 with 1 Axes>"
      ]
     },
     "metadata": {
      "needs_background": "light"
     },
     "output_type": "display_data"
    },
    {
     "name": "stdout",
     "output_type": "stream",
     "text": [
      "Best alpha value:\t0.31622776601683794\n",
      "Best epoch length:\t80.0\n",
      "Best learning rate:\t0.001\n",
      "Best Loss:\t\t191.53892694921984\n",
      "\n",
      "\n",
      "Scenario A's Accuracy on Test Dataset:\t0.9794952681388013\n",
      "Scenario B's Accuracy on Test Dataset:\t0.9794952681388013\n"
     ]
    }
   ],
   "source": [
    "#Part A: Training with given hyperparameters\n",
    "presetAlpha, preset_t, presetEta = 0, 100, 1e-3\n",
    "logRegA = LogisticRegression(presetAlpha, preset_t, presetEta)\n",
    "lossesA = logRegA.train(X_train, y_train)\n",
    "plt.plot(lossesA, '-bo')\n",
    "plt.title(\"Loss over epochs, Method A\")\n",
    "plt.xlabel(\"Epochs\")\n",
    "plt.ylabel(\"Loss\")\n",
    "plt.show()\n",
    "print(\"Alpha value:\\t\\t\"+str(presetAlpha))\n",
    "print(\"Epoch length:\\t\\t\"+str(preset_t))\n",
    "print(\"Learning rate:\\t\\t\"+str(presetEta))\n",
    "print(\"Loss:\\t\\t\\t\"+str(lossesA[-1]))\n",
    "\n",
    "#Part B: Finding the best hyperparameters by randomly searching the space\n",
    "import random\n",
    "import itertools\n",
    "alphas = np.logspace(-2, 0, 5)\n",
    "t_epochs = np.linspace(20, 100, 5)\n",
    "etas = np.logspace(-5, -3, 5)\n",
    "\n",
    "hparamSearchSpace = list(set(itertools.product(alphas,t_epochs, etas)))\n",
    "rand_hParams = random.sample(hparamSearchSpace, 20)\n",
    "\n",
    "bestLoss = np.inf\n",
    "#for alpha, t, eta in hparamSearchSpace: #could do this to search whole space\n",
    "for alpha, t, eta in rand_hParams:\n",
    "    logRegSearch = LogisticRegression(alpha, int(t), eta)\n",
    "    thisLoss = logRegSearch.train(X_train, y_train)\n",
    "    #print(thisLoss[-1])\n",
    "    if thisLoss[-1] < bestLoss:\n",
    "        bestLoss = thisLoss[-1]\n",
    "        bestAlpha, best_t, bestEta, bestLosses = alpha, t, eta, thisLoss\n",
    "        bestModel = logRegSearch\n",
    "        \n",
    "plt.plot(bestLosses, '-ro')\n",
    "plt.title(\"Loss over epochs, Method B\")\n",
    "plt.xlabel(\"Epochs\")\n",
    "plt.ylabel(\"Loss\")\n",
    "plt.show()\n",
    "print(\"Best alpha value:\\t\"+str(bestAlpha))\n",
    "print(\"Best epoch length:\\t\"+str(best_t))\n",
    "print(\"Best learning rate:\\t\"+str(bestEta))\n",
    "print(\"Best Loss:\\t\\t\"+str(bestLoss))\n",
    "\n",
    "#Part C: Comparing accuracy for both scenarios\n",
    "yA_pred = logRegA.predict(X_test)\n",
    "yB_pred = bestModel.predict(X_test)\n",
    "\n",
    "A_accuracy = 1-np.mean(np.abs(yA_pred-y_test))\n",
    "B_accuracy = 1-np.mean(np.abs(yB_pred-y_test))\n",
    "\n",
    "print(\"\\n\\nScenario A's Accuracy on Test Dataset:\\t\"+str(A_accuracy))\n",
    "print(\"Scenario B's Accuracy on Test Dataset:\\t\"+str(B_accuracy))"
   ]
  },
  {
   "cell_type": "markdown",
   "id": "f188a581",
   "metadata": {
    "id": "f188a581"
   },
   "source": [
    "**2.7 Feature Importance**\n",
    "\n",
    "Interpret your trained model using a bar chart of the model weights. Make sure to label the bars (x-axis) and don't forget the bias term! "
   ]
  },
  {
   "cell_type": "code",
   "execution_count": 53,
   "id": "8b31e859",
   "metadata": {
    "id": "8b31e859"
   },
   "outputs": [
    {
     "data": {
      "image/png": "[encoded data removed]",
      "text/plain": [
       "<Figure size 720x360 with 1 Axes>"
      ]
     },
     "metadata": {
      "needs_background": "light"
     },
     "output_type": "display_data"
    }
   ],
   "source": [
    "features = list(voice_X.columns)\n",
    "features.append(\"Bias Term\")\n",
    "fig = plt.figure(figsize = (10,5))\n",
    "ax = sns.barplot(x=features, y=logRegA.w)\n",
    "ax.tick_params(axis='x', rotation=90)"
   ]
  },
  {
   "cell_type": "markdown",
   "id": "3307a991",
   "metadata": {
    "id": "3307a991"
   },
   "source": [
    "\n",
    "# **Part 3: Support Vector Machines - with the same Dataset**"
   ]
  },
  {
   "cell_type": "markdown",
   "id": "_cdNyA8r8eNX",
   "metadata": {
    "id": "_cdNyA8r8eNX"
   },
   "source": [
    "**3.1 Dual SVM**\n",
    "\n",
    "A) Train a dual SVM (with default parameters) for both kernel=“linear” and kernel=“rbf”) on the Voice Recognition training data.\n",
    "\n",
    "B) Make predictions and report the accuracy on the training, validation, and test sets. Which kernel gave better accuracy on test dataset and why do you think that was better?\n",
    "\n",
    "C) Please report the support vectors in both the cases and what do you observe? Explain\n"
   ]
  },
  {
   "cell_type": "code",
   "execution_count": 54,
   "id": "zq6AK8Jt8gWN",
   "metadata": {
    "id": "zq6AK8Jt8gWN"
   },
   "outputs": [
    {
     "name": "stdout",
     "output_type": "stream",
     "text": [
      "Class Distribution:\n",
      "0    1584\n",
      "1    1584\n",
      "dtype: int64\n",
      "Dataset Size:\n",
      "(3168, 15)\n",
      "\n",
      "Linear Kernel Test Score:\t 0.9763406940063092\n",
      "RBF Kernel Test Score:\t 0.9810725552050473\n",
      "\n",
      "The RBF Kernel gave better accuracy on the test dataset. It is usually recommended to use a linear kernel when the number of features is large, and a non-linear RBF (Gaussian) kernel when the number of samples is large. This is because a linear kernel is never more accurate than a properly tuned Gaussian kernel, it is mainly used because it is faster on datasets with many features. \n"
     ]
    }
   ],
   "source": [
    "from sklearn.compose import make_column_transformer\n",
    "from sklearn.pipeline import make_pipeline\n",
    "print(\"Class Distribution:\")\n",
    "voice_y = pd.Series(voice_y)\n",
    "print(voice_y.value_counts())\n",
    "print(\"Dataset Size:\")\n",
    "print(voice_X.shape)\n",
    "feature_names = list(voice_X.columns)\n",
    "dev_X, test_X, dev_y, test_y = train_test_split(voice_X, voice_y, test_size=0.2, random_state=42)\n",
    "preprocess = make_column_transformer((StandardScaler(), feature_names))\n",
    "pipe_linear = make_pipeline(preprocess, SVC(kernel='linear'))\n",
    "pipe_rbf = make_pipeline(preprocess, SVC(kernel='rbf'))\n",
    "pipe_linear.fit(dev_X, dev_y)\n",
    "pipe_rbf.fit(dev_X, dev_y)\n",
    "\n",
    "print(f\"\\nLinear Kernel Test Score:\\t\", pipe_linear.score(test_X, test_y))\n",
    "print(f\"RBF Kernel Test Score:\\t\", pipe_rbf.score(test_X, test_y))\n",
    "print(\"\\nThe RBF Kernel gave better accuracy on the test dataset. It is usually recommended to use a linear kernel when the number of features is large, and a non-linear RBF (Gaussian) kernel when the number of samples is large. This is because a linear kernel is never more accurate than a properly tuned Gaussian kernel, it is mainly used because it is faster on datasets with many features. \")"
   ]
  },
  {
   "cell_type": "markdown",
   "id": "P2h1rkaQ8rOr",
   "metadata": {
    "id": "P2h1rkaQ8rOr"
   },
   "source": [
    "**3.2 Using Kernel “rbf”, tune the hyperparameter “C” using the Grid Search & k-fold cross validation. You may take k=5 and assume values in grid between 1 to 100 with interval range of your choice.**"
   ]
  },
  {
   "cell_type": "code",
   "execution_count": 55,
   "id": "QVoqZtQ38wPN",
   "metadata": {
    "id": "QVoqZtQ38wPN"
   },
   "outputs": [
    {
     "name": "stdout",
     "output_type": "stream",
     "text": [
      "Best Score:\t 0.9822446227128502\n",
      "Best Params:\t {'C': 1.6237767391887217}\n",
      "Test Score:\t 0.9810725552050473\n"
     ]
    }
   ],
   "source": [
    "from sklearn.model_selection import GridSearchCV\n",
    "pipe = make_pipeline(preprocess, \n",
    "                     GridSearchCV(SVC(kernel='rbf'), param_grid = {\"C\":np.logspace(0, 2, 20)}, cv=5))\n",
    "pipe.fit(dev_X, dev_y)\n",
    "grid_search_results = pipe.named_steps[\"gridsearchcv\"]\n",
    "print(f\"Best Score:\\t\", grid_search_results.best_score_)\n",
    "print(f\"Best Params:\\t\", grid_search_results.best_params_)\n",
    "print(f\"Test Score:\\t\", pipe.score(test_X, test_y))"
   ]
  },
  {
   "cell_type": "code",
   "execution_count": null,
   "id": "57b5a39e",
   "metadata": {},
   "outputs": [],
   "source": []
  }
 ],
 "metadata": {
  "colab": {
   "collapsed_sections": [
    "71ebca87",
    "1e3b7ca8",
    "c48a741e",
    "c12c284a"
   ],
   "name": "Assignment_1_Spring_22_updated.ipynb",
   "provenance": []
  },
  "kernelspec": {
   "display_name": "Python 3 (ipykernel)",
   "language": "python",
   "name": "python3"
  },
  "language_info": {
   "codemirror_mode": {
    "name": "ipython",
    "version": 3
   },
   "file_extension": ".py",
   "mimetype": "text/x-python",
   "name": "python",
   "nbconvert_exporter": "python",
   "pygments_lexer": "ipython3",
   "version": "3.9.7"
  }
 },
 "nbformat": 4,
 "nbformat_minor": 5
}
